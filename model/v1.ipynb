{
 "cells": [
  {
   "cell_type": "markdown",
   "id": "c1e0fd90",
   "metadata": {},
   "source": [
    "# Modelo V1"
   ]
  },
  {
   "cell_type": "code",
   "execution_count": 10,
   "id": "282f018b",
   "metadata": {},
   "outputs": [],
   "source": [
    "# FLAGS\n",
    "FLAG_DATASET_DL = True"
   ]
  },
  {
   "cell_type": "markdown",
   "id": "12d04c97",
   "metadata": {},
   "source": [
    "## 1. Carga de datos y librerías"
   ]
  },
  {
   "cell_type": "code",
   "execution_count": 11,
   "id": "3c3a2632",
   "metadata": {},
   "outputs": [
    {
     "name": "stdout",
     "output_type": "stream",
     "text": [
      "Defaulting to user installation because normal site-packages is not writeable\n",
      "Requirement already satisfied: pip in /home/vscode/.local/lib/python3.10/site-packages (25.1.1)\n",
      "Note: you may need to restart the kernel to use updated packages.\n",
      "Defaulting to user installation because normal site-packages is not writeable\n",
      "Requirement already satisfied: numpy~=1.26 in /home/vscode/.local/lib/python3.10/site-packages (1.26.4)\n",
      "Note: you may need to restart the kernel to use updated packages.\n",
      "Defaulting to user installation because normal site-packages is not writeable\n",
      "Requirement already satisfied: pandas in /home/vscode/.local/lib/python3.10/site-packages (2.2.3)\n",
      "Requirement already satisfied: matplotlib in /home/vscode/.local/lib/python3.10/site-packages (3.10.3)\n",
      "Requirement already satisfied: tqdm in /home/vscode/.local/lib/python3.10/site-packages (4.67.1)\n",
      "Requirement already satisfied: seaborn in /home/vscode/.local/lib/python3.10/site-packages (0.13.2)\n",
      "Requirement already satisfied: numpy>=1.22.4 in /home/vscode/.local/lib/python3.10/site-packages (from pandas) (1.26.4)\n",
      "Requirement already satisfied: python-dateutil>=2.8.2 in /home/vscode/.local/lib/python3.10/site-packages (from pandas) (2.9.0.post0)\n",
      "Requirement already satisfied: pytz>=2020.1 in /home/vscode/.local/lib/python3.10/site-packages (from pandas) (2025.2)\n",
      "Requirement already satisfied: tzdata>=2022.7 in /home/vscode/.local/lib/python3.10/site-packages (from pandas) (2025.2)\n",
      "Requirement already satisfied: contourpy>=1.0.1 in /home/vscode/.local/lib/python3.10/site-packages (from matplotlib) (1.3.2)\n",
      "Requirement already satisfied: cycler>=0.10 in /home/vscode/.local/lib/python3.10/site-packages (from matplotlib) (0.12.1)\n",
      "Requirement already satisfied: fonttools>=4.22.0 in /home/vscode/.local/lib/python3.10/site-packages (from matplotlib) (4.58.1)\n",
      "Requirement already satisfied: kiwisolver>=1.3.1 in /home/vscode/.local/lib/python3.10/site-packages (from matplotlib) (1.4.8)\n",
      "Requirement already satisfied: packaging>=20.0 in /home/vscode/.local/lib/python3.10/site-packages (from matplotlib) (25.0)\n",
      "Requirement already satisfied: pillow>=8 in /home/vscode/.local/lib/python3.10/site-packages (from matplotlib) (11.2.1)\n",
      "Requirement already satisfied: pyparsing>=2.3.1 in /home/vscode/.local/lib/python3.10/site-packages (from matplotlib) (3.2.3)\n",
      "Requirement already satisfied: six>=1.5 in /home/vscode/.local/lib/python3.10/site-packages (from python-dateutil>=2.8.2->pandas) (1.17.0)\n",
      "Note: you may need to restart the kernel to use updated packages.\n",
      "Defaulting to user installation because normal site-packages is not writeable\n",
      "Requirement already satisfied: pyarrow in /home/vscode/.local/lib/python3.10/site-packages (20.0.0)\n",
      "Requirement already satisfied: fastparquet in /home/vscode/.local/lib/python3.10/site-packages (2024.11.0)\n",
      "Requirement already satisfied: pandas>=1.5.0 in /home/vscode/.local/lib/python3.10/site-packages (from fastparquet) (2.2.3)\n",
      "Requirement already satisfied: numpy in /home/vscode/.local/lib/python3.10/site-packages (from fastparquet) (1.26.4)\n",
      "Requirement already satisfied: cramjam>=2.3 in /home/vscode/.local/lib/python3.10/site-packages (from fastparquet) (2.10.0)\n",
      "Requirement already satisfied: fsspec in /home/vscode/.local/lib/python3.10/site-packages (from fastparquet) (2025.5.1)\n",
      "Requirement already satisfied: packaging in /home/vscode/.local/lib/python3.10/site-packages (from fastparquet) (25.0)\n",
      "Requirement already satisfied: python-dateutil>=2.8.2 in /home/vscode/.local/lib/python3.10/site-packages (from pandas>=1.5.0->fastparquet) (2.9.0.post0)\n",
      "Requirement already satisfied: pytz>=2020.1 in /home/vscode/.local/lib/python3.10/site-packages (from pandas>=1.5.0->fastparquet) (2025.2)\n",
      "Requirement already satisfied: tzdata>=2022.7 in /home/vscode/.local/lib/python3.10/site-packages (from pandas>=1.5.0->fastparquet) (2025.2)\n",
      "Requirement already satisfied: six>=1.5 in /home/vscode/.local/lib/python3.10/site-packages (from python-dateutil>=2.8.2->pandas>=1.5.0->fastparquet) (1.17.0)\n",
      "Note: you may need to restart the kernel to use updated packages.\n",
      "Defaulting to user installation because normal site-packages is not writeable\n",
      "Requirement already satisfied: scikit-surprise in /home/vscode/.local/lib/python3.10/site-packages (1.1.4)\n",
      "Requirement already satisfied: scikit-learn in /home/vscode/.local/lib/python3.10/site-packages (1.6.1)\n",
      "Requirement already satisfied: joblib>=1.2.0 in /home/vscode/.local/lib/python3.10/site-packages (from scikit-surprise) (1.5.1)\n",
      "Requirement already satisfied: numpy>=1.19.5 in /home/vscode/.local/lib/python3.10/site-packages (from scikit-surprise) (1.26.4)\n",
      "Requirement already satisfied: scipy>=1.6.0 in /home/vscode/.local/lib/python3.10/site-packages (from scikit-surprise) (1.15.3)\n",
      "Requirement already satisfied: threadpoolctl>=3.1.0 in /home/vscode/.local/lib/python3.10/site-packages (from scikit-learn) (3.6.0)\n",
      "Note: you may need to restart the kernel to use updated packages.\n"
     ]
    }
   ],
   "source": [
    "# Actualizar pip\n",
    "%pip install --upgrade pip\n",
    "# Instalar versión específica de numpy\n",
    "%pip install numpy~=1.26\n",
    "# Dependencias para graficar y manipular datos\n",
    "%pip install pandas matplotlib tqdm seaborn\n",
    "# Dependencias para leer archivos Parquet\n",
    "%pip install pyarrow fastparquet\n",
    "# Para predicción\n",
    "%pip install scikit-surprise scikit-learn"
   ]
  },
  {
   "cell_type": "code",
   "execution_count": 13,
   "id": "a805f399",
   "metadata": {},
   "outputs": [],
   "source": [
    "# Importar librerías\n",
    "import os\n",
    "import sys\n",
    "import numpy as np\n",
    "import pandas as pd\n",
    "import matplotlib.pyplot as plt\n",
    "import seaborn as sns\n",
    "from collections import Counter\n",
    "\n",
    "# Crear directorios\n",
    "PATH_DATASETS = \"datasets\"\n",
    "PATH_DATASETS_FOODCOM = os.path.join(PATH_DATASETS, \"foodcom\")\n",
    "PATH_DATASETS_MEALRECPLUS = os.path.join(PATH_DATASETS, \"mealrecplus\")\n",
    "PATH_MEALRECPLUS_META_DATA = os.path.join(PATH_DATASETS_MEALRECPLUS, \"MealRecPlus-main/MealRec+/MealRec+H/meta_data/\")\n",
    "PATH_MEALRECPLUS_HEALTHINESS = os.path.join(PATH_DATASETS_MEALRECPLUS, \"MealRecPlus-main/MealRec+/MealRec+H/healthiness/\")\n",
    "os.makedirs(PATH_DATASETS, exist_ok=True)"
   ]
  },
  {
   "cell_type": "code",
   "execution_count": 15,
   "id": "963171f9",
   "metadata": {},
   "outputs": [
    {
     "name": "stderr",
     "output_type": "stream",
     "text": [
      "  % Total    % Received % Xferd  Average Speed   Time    Time     Time  Current\n",
      "                                 Dload  Upload   Total   Spent    Left  Speed\n",
      "  0     0    0     0    0     0      0      0 --:--:-- --:--:-- --:--:--     0\n",
      "100  723M  100  723M    0     0  23.0M      0  0:00:31  0:00:31 --:--:-- 25.3M\n"
     ]
    },
    {
     "name": "stdout",
     "output_type": "stream",
     "text": [
      "Archive:  datasets/foodcom.zip\n",
      "  inflating: datasets/foodcom/recipes.csv  \n",
      "  inflating: datasets/foodcom/recipes.parquet  \n",
      "  inflating: datasets/foodcom/reviews.csv  \n",
      "  inflating: datasets/foodcom/reviews.parquet  \n"
     ]
    },
    {
     "name": "stderr",
     "output_type": "stream",
     "text": [
      "  % Total    % Received % Xferd  Average Speed   Time    Time     Time  Current\n",
      "                                 Dload  Upload   Total   Spent    Left  Speed\n",
      "  0     0    0     0    0     0      0      0 --:--:-- --:--:-- --:--:--     0\n",
      "100  384M    0  384M    0     0  7680k      0 --:--:--  0:00:51 --:--:-- 33.1M\n"
     ]
    },
    {
     "name": "stdout",
     "output_type": "stream",
     "text": [
      "Archive:  datasets/mealrecplus.zip\n",
      "8bd7d7d7effb505be4a7d2074b28abad802fe0f7\n",
      "  inflating: datasets/mealrecplus/MealRecPlus-main/.DS_Store  \n",
      "  inflating: datasets/mealrecplus/MealRecPlus-main/.gitattributes  \n",
      "  inflating: datasets/mealrecplus/MealRecPlus-main/MealRec+/.DS_Store  \n",
      "  inflating: datasets/mealrecplus/MealRecPlus-main/MealRec+/MealRec+H/.DS_Store  \n",
      "  inflating: datasets/mealrecplus/MealRecPlus-main/MealRec+/MealRec+H/course_category.txt  \n",
      "  inflating: datasets/mealrecplus/MealRecPlus-main/MealRec+/MealRec+H/healthiness/.DS_Store  \n",
      "  inflating: datasets/mealrecplus/MealRecPlus-main/MealRec+/MealRec+H/healthiness/course_fsa.txt  \n",
      "  inflating: datasets/mealrecplus/MealRecPlus-main/MealRec+/MealRec+H/healthiness/course_who.txt  \n",
      "  inflating: datasets/mealrecplus/MealRecPlus-main/MealRec+/MealRec+H/healthiness/meal_fsa.txt  \n",
      "  inflating: datasets/mealrecplus/MealRecPlus-main/MealRec+/MealRec+H/healthiness/meal_who.txt  \n",
      "  inflating: datasets/mealrecplus/MealRecPlus-main/MealRec+/MealRec+H/healthiness/user_fsa.txt  \n",
      "  inflating: datasets/mealrecplus/MealRecPlus-main/MealRec+/MealRec+H/healthiness/user_who.txt  \n",
      "  inflating: datasets/mealrecplus/MealRecPlus-main/MealRec+/MealRec+H/meal_course.txt  \n",
      "  inflating: datasets/mealrecplus/MealRecPlus-main/MealRec+/MealRec+H/meta_data/DateNote.txt  \n",
      " extracting: datasets/mealrecplus/MealRecPlus-main/MealRec+/MealRec+H/meta_data/course.zip  \n",
      "  inflating: datasets/mealrecplus/MealRecPlus-main/MealRec+/MealRec+H/meta_data/course2index.txt  \n",
      "  inflating: datasets/mealrecplus/MealRecPlus-main/MealRec+/MealRec+H/meta_data/user2index.txt  \n",
      " extracting: datasets/mealrecplus/MealRecPlus-main/MealRec+/MealRec+H/meta_data/user_course.zip  \n",
      "  inflating: datasets/mealrecplus/MealRecPlus-main/MealRec+/MealRec+H/user_course.txt  \n",
      "  inflating: datasets/mealrecplus/MealRecPlus-main/MealRec+/MealRec+H/user_meal_test.txt  \n",
      "  inflating: datasets/mealrecplus/MealRecPlus-main/MealRec+/MealRec+H/user_meal_train.txt  \n",
      "  inflating: datasets/mealrecplus/MealRecPlus-main/MealRec+/MealRec+H/user_meal_tune.txt  \n",
      "  inflating: datasets/mealrecplus/MealRecPlus-main/MealRec+/MealRec+L/.DS_Store  \n",
      "  inflating: datasets/mealrecplus/MealRecPlus-main/MealRec+/MealRec+L/course_category.txt  \n",
      "  inflating: datasets/mealrecplus/MealRecPlus-main/MealRec+/MealRec+L/healthiness/.DS_Store  \n",
      "  inflating: datasets/mealrecplus/MealRecPlus-main/MealRec+/MealRec+L/healthiness/course_fsa.txt  \n",
      "  inflating: datasets/mealrecplus/MealRecPlus-main/MealRec+/MealRec+L/healthiness/course_who.txt  \n",
      "  inflating: datasets/mealrecplus/MealRecPlus-main/MealRec+/MealRec+L/healthiness/meal_fsa.txt  \n",
      "  inflating: datasets/mealrecplus/MealRecPlus-main/MealRec+/MealRec+L/healthiness/meal_who.txt  \n",
      "  inflating: datasets/mealrecplus/MealRecPlus-main/MealRec+/MealRec+L/healthiness/user_fsa.txt  \n",
      "  inflating: datasets/mealrecplus/MealRecPlus-main/MealRec+/MealRec+L/healthiness/user_who.txt  \n",
      "  inflating: datasets/mealrecplus/MealRecPlus-main/MealRec+/MealRec+L/meal_course.txt  \n",
      "  inflating: datasets/mealrecplus/MealRecPlus-main/MealRec+/MealRec+L/meta_data/.DS_Store  \n",
      "  inflating: datasets/mealrecplus/MealRecPlus-main/MealRec+/MealRec+L/meta_data/DateNote.txt  \n",
      " extracting: datasets/mealrecplus/MealRecPlus-main/MealRec+/MealRec+L/meta_data/course.zip  \n",
      "  inflating: datasets/mealrecplus/MealRecPlus-main/MealRec+/MealRec+L/meta_data/course2index.txt  \n",
      "  inflating: datasets/mealrecplus/MealRecPlus-main/MealRec+/MealRec+L/meta_data/user2index.txt  \n",
      " extracting: datasets/mealrecplus/MealRecPlus-main/MealRec+/MealRec+L/meta_data/user_course.zip  \n",
      "  inflating: datasets/mealrecplus/MealRecPlus-main/MealRec+/MealRec+L/user_course.txt  \n",
      "  inflating: datasets/mealrecplus/MealRecPlus-main/MealRec+/MealRec+L/user_meal_test.txt  \n",
      "  inflating: datasets/mealrecplus/MealRecPlus-main/MealRec+/MealRec+L/user_meal_train.txt  \n",
      "  inflating: datasets/mealrecplus/MealRecPlus-main/MealRec+/MealRec+L/user_meal_tune.txt  \n",
      "  inflating: datasets/mealrecplus/MealRecPlus-main/MealRec+/data_load.py  \n",
      "  inflating: datasets/mealrecplus/MealRecPlus-main/README.md  \n",
      "  inflating: datasets/mealrecplus/MealRecPlus-main/healthiness_eval.py  \n",
      "Archive:  datasets/mealrecplus/MealRecPlus-main/MealRec+/MealRec+H/meta_data/course.zip\n",
      "  inflating: datasets/mealrecplus/MealRecPlus-main/MealRec+/MealRec+H/meta_data/course/course.csv  \n",
      "Archive:  datasets/mealrecplus/MealRecPlus-main/MealRec+/MealRec+H/meta_data/user_course.zip\n",
      "  inflating: datasets/mealrecplus/MealRecPlus-main/MealRec+/MealRec+H/meta_data/user_course/user_course.csv  \n"
     ]
    }
   ],
   "source": [
    "if FLAG_DATASET_DL:\n",
    "  # Descargar \"Recipes and Reviews\" de Food.com\n",
    "  os.system(f\"curl -L -o {PATH_DATASETS_FOODCOM}.zip https://www.kaggle.com/api/v1/datasets/download/irkaal/foodcom-recipes-and-reviews\")\n",
    "  os.system(f\"unzip -o {PATH_DATASETS_FOODCOM}.zip -d {PATH_DATASETS_FOODCOM}\")\n",
    "  # Eliminar el zip\n",
    "  os.remove(f\"{PATH_DATASETS_FOODCOM}.zip\")\n",
    "\n",
    "  # Cita: Dominio público (https://www.kaggle.com/datasets/irkaal/foodcom-recipes-and-reviews)\n",
    "\n",
    "  # Descargar \"MealRecPlus\" de WUT-IDEA\n",
    "  os.system(f\"curl -L -o {PATH_DATASETS_MEALRECPLUS}.zip https://github.com/WUT-IDEA/MealRecPlus/archive/refs/heads/main.zip\")\n",
    "  os.system(f\"unzip -o {PATH_DATASETS_MEALRECPLUS}.zip -d {PATH_DATASETS_MEALRECPLUS}\")\n",
    "  os.system(f\"unzip -o {os.path.join(PATH_MEALRECPLUS_META_DATA, 'course')}.zip -d {os.path.join(PATH_MEALRECPLUS_META_DATA, 'course')}\")\n",
    "  os.system(f\"unzip -o {os.path.join(PATH_MEALRECPLUS_META_DATA, 'user_course')}.zip -d {os.path.join(PATH_MEALRECPLUS_META_DATA, 'user_course')}\")\n",
    "  # Eliminar el zip\n",
    "  os.remove(f\"{PATH_DATASETS_MEALRECPLUS}.zip\")\n",
    "  os.remove(os.path.join(PATH_MEALRECPLUS_META_DATA, \"course.zip\"))\n",
    "  os.remove(os.path.join(PATH_MEALRECPLUS_META_DATA, \"user_course.zip\"))\n",
    "  # Cita: Ming Li, Lin Li, Xiaohui Tao, and Jimmy Xiangji Huang. 2024. MealRec+: A Meal Recommendation Dataset with Meal-Course Affiliation for Personal- ization and Healthiness. In Proceedings of the 47th International ACM SIGIR Conference on Research and Development in Information Retrieval (SIGIR ’24), July 14–18, 2024, Washington, DC, USA. ACM, New York, NY, USA, 11 pages. https://doi.org/10.1145/3626772.3657857 (https://github.com/WUT-IDEA/MealRecPlus)"
   ]
  },
  {
   "cell_type": "code",
   "execution_count": 7,
   "id": "b939a419",
   "metadata": {},
   "outputs": [],
   "source": [
    "# Foodcom dataframes\n",
    "df_foodcom_recipes = pd.read_parquet(os.path.join(PATH_DATASETS_FOODCOM, \"recipes.parquet\"))\n",
    "df_foodcom_reviews = pd.read_parquet(os.path.join(PATH_DATASETS_FOODCOM, \"reviews.parquet\"))"
   ]
  },
  {
   "cell_type": "code",
   "execution_count": 16,
   "id": "54be47ac",
   "metadata": {},
   "outputs": [
    {
     "name": "stdout",
     "output_type": "stream",
     "text": [
      "<class 'pandas.core.frame.DataFrame'>\n",
      "RangeIndex: 522517 entries, 0 to 522516\n",
      "Data columns (total 28 columns):\n",
      " #   Column                      Non-Null Count   Dtype              \n",
      "---  ------                      --------------   -----              \n",
      " 0   RecipeId                    522517 non-null  float64            \n",
      " 1   Name                        522517 non-null  object             \n",
      " 2   AuthorId                    522517 non-null  int32              \n",
      " 3   AuthorName                  522517 non-null  object             \n",
      " 4   CookTime                    439972 non-null  object             \n",
      " 5   PrepTime                    522517 non-null  object             \n",
      " 6   TotalTime                   522517 non-null  object             \n",
      " 7   DatePublished               522517 non-null  datetime64[us, UTC]\n",
      " 8   Description                 522512 non-null  object             \n",
      " 9   Images                      522516 non-null  object             \n",
      " 10  RecipeCategory              521766 non-null  object             \n",
      " 11  Keywords                    522517 non-null  object             \n",
      " 12  RecipeIngredientQuantities  522517 non-null  object             \n",
      " 13  RecipeIngredientParts       522517 non-null  object             \n",
      " 14  AggregatedRating            269294 non-null  float64            \n",
      " 15  ReviewCount                 275028 non-null  float64            \n",
      " 16  Calories                    522517 non-null  float64            \n",
      " 17  FatContent                  522517 non-null  float64            \n",
      " 18  SaturatedFatContent         522517 non-null  float64            \n",
      " 19  CholesterolContent          522517 non-null  float64            \n",
      " 20  SodiumContent               522517 non-null  float64            \n",
      " 21  CarbohydrateContent         522517 non-null  float64            \n",
      " 22  FiberContent                522517 non-null  float64            \n",
      " 23  SugarContent                522517 non-null  float64            \n",
      " 24  ProteinContent              522517 non-null  float64            \n",
      " 25  RecipeServings              339606 non-null  float64            \n",
      " 26  RecipeYield                 174446 non-null  object             \n",
      " 27  RecipeInstructions          522517 non-null  object             \n",
      "dtypes: datetime64[us, UTC](1), float64(13), int32(1), object(13)\n",
      "memory usage: 109.6+ MB\n"
     ]
    }
   ],
   "source": [
    "# Recetas de Foodcom\n",
    "df_foodcom_recipes.info()"
   ]
  },
  {
   "cell_type": "code",
   "execution_count": 17,
   "id": "d12d3b1c",
   "metadata": {},
   "outputs": [
    {
     "name": "stdout",
     "output_type": "stream",
     "text": [
      "<class 'pandas.core.frame.DataFrame'>\n",
      "RangeIndex: 1401982 entries, 0 to 1401981\n",
      "Data columns (total 8 columns):\n",
      " #   Column         Non-Null Count    Dtype              \n",
      "---  ------         --------------    -----              \n",
      " 0   ReviewId       1401982 non-null  int32              \n",
      " 1   RecipeId       1401982 non-null  int32              \n",
      " 2   AuthorId       1401982 non-null  int32              \n",
      " 3   AuthorName     1401982 non-null  object             \n",
      " 4   Rating         1401982 non-null  int32              \n",
      " 5   Review         1401982 non-null  object             \n",
      " 6   DateSubmitted  1401982 non-null  datetime64[us, UTC]\n",
      " 7   DateModified   1401982 non-null  datetime64[us, UTC]\n",
      "dtypes: datetime64[us, UTC](2), int32(4), object(2)\n",
      "memory usage: 64.2+ MB\n"
     ]
    }
   ],
   "source": [
    "# Reviews de Foodcom\n",
    "df_foodcom_reviews.info()"
   ]
  },
  {
   "cell_type": "code",
   "execution_count": null,
   "id": "3f594b14",
   "metadata": {},
   "outputs": [
    {
     "name": "stderr",
     "output_type": "stream",
     "text": [
      "/tmp/ipykernel_5928/3656190536.py:2: DtypeWarning: Columns (0,1,2) have mixed types. Specify dtype option on import or set low_memory=False.\n",
      "  df_mealrecplus_user_course = pd.read_csv(\n"
     ]
    }
   ],
   "source": [
    "# MealRecPlus dataframes\n",
    "df_mealrecplus_user_course = pd.read_csv(\n",
    "    os.path.join(PATH_MEALRECPLUS_META_DATA, \"user_course\", \"user_course.csv\"),\n",
    "    names=[\"user_id\", \"course_id\", \"rating\", \"dateLastModified\"],\n",
    "    header=None\n",
    ")\n",
    "# Convertir la columna 'rating' a tipo numérico, forzando los errores a NaN\n",
    "df_mealrecplus_user_course['rating'] = pd.to_numeric(df_mealrecplus_user_course['rating'], errors='coerce')\n",
    "df_mealrecplus_user_course.dropna(subset=['rating'], inplace=True)\n",
    "\n",
    "# Cargar metadatos de platos\n",
    "df_mealrecplus_course = pd.read_csv(os.path.join(PATH_MEALRECPLUS_META_DATA, \"course\", \"course.csv\"))\n",
    "\n",
    "# Cargar los índices de usuarios y cursos\n",
    "df_mealrecplus_user2index = pd.read_csv(os.path.join(PATH_MEALRECPLUS_META_DATA, \"user2index.txt\"), sep=\"\\t\", names=[\"user_id\", \"user_index\"])\n",
    "df_mealrecplus_course2index = pd.read_csv(os.path.join(PATH_MEALRECPLUS_META_DATA, \"course2index.txt\"), sep=\"\\t\", names=[\"course_id\", \"course_index\"])\n",
    "\n",
    "# Healthiness scores for MealRecPlus\n",
    "df_mealrecplus_course_fsa = pd.read_csv(os.path.join(PATH_MEALRECPLUS_HEALTHINESS, \"course_fsa.txt\"), header=None, names=[\"fsa_score\"])\n",
    "df_mealrecplus_course_who = pd.read_csv(os.path.join(PATH_MEALRECPLUS_HEALTHINESS, \"course_who.txt\"), header=None, names=[\"who_score\"])\n",
    "\n",
    "# Puntajes por comida (meal)\n",
    "df_mealrecplus_meal_fsa = pd.read_csv(os.path.join(PATH_MEALRECPLUS_HEALTHINESS, \"meal_fsa.txt\"), header=None, names=[\"fsa_score\"])\n",
    "df_mealrecplus_meal_who = pd.read_csv(os.path.join(PATH_MEALRECPLUS_HEALTHINESS, \"meal_who.txt\"), header=None, names=[\"who_score\"])\n",
    "\n",
    "# Puntajes promedio por usuario según sus comidas\n",
    "df_mealrecplus_user_fsa = pd.read_csv(os.path.join(PATH_MEALRECPLUS_HEALTHINESS, \"user_fsa.txt\"), header=None, names=[\"fsa_score\"])\n",
    "df_mealrecplus_user_who = pd.read_csv(os.path.join(PATH_MEALRECPLUS_HEALTHINESS, \"user_who.txt\"), header=None, names=[\"who_score\"])"
   ]
  }
 ],
 "metadata": {
  "kernelspec": {
   "display_name": "Python 3",
   "language": "python",
   "name": "python3"
  },
  "language_info": {
   "codemirror_mode": {
    "name": "ipython",
    "version": 3
   },
   "file_extension": ".py",
   "mimetype": "text/x-python",
   "name": "python",
   "nbconvert_exporter": "python",
   "pygments_lexer": "ipython3",
   "version": "3.10.17"
  }
 },
 "nbformat": 4,
 "nbformat_minor": 5
}
