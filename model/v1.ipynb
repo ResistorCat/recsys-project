{
 "cells": [
  {
   "cell_type": "markdown",
   "id": "c1e0fd90",
   "metadata": {},
   "source": [
    "# Modelo V1"
   ]
  },
  {
   "cell_type": "code",
   "execution_count": 1,
   "id": "282f018b",
   "metadata": {},
   "outputs": [],
   "source": [
    "# FLAGS\n",
    "FLAG_DATASET_DL = False"
   ]
  },
  {
   "cell_type": "markdown",
   "id": "12d04c97",
   "metadata": {},
   "source": [
    "## 1. Carga de datos y librerías"
   ]
  },
  {
   "cell_type": "code",
   "execution_count": 2,
   "id": "3c3a2632",
   "metadata": {},
   "outputs": [
    {
     "name": "stdout",
     "output_type": "stream",
     "text": [
      "Defaulting to user installation because normal site-packages is not writeable\n",
      "Requirement already satisfied: pip in /home/vscode/.local/lib/python3.10/site-packages (25.1.1)\n",
      "Note: you may need to restart the kernel to use updated packages.\n",
      "Defaulting to user installation because normal site-packages is not writeable\n",
      "Requirement already satisfied: numpy~=1.26 in /home/vscode/.local/lib/python3.10/site-packages (1.26.4)\n",
      "Note: you may need to restart the kernel to use updated packages.\n",
      "Defaulting to user installation because normal site-packages is not writeable\n",
      "Requirement already satisfied: pandas in /home/vscode/.local/lib/python3.10/site-packages (2.2.3)\n",
      "Requirement already satisfied: matplotlib in /home/vscode/.local/lib/python3.10/site-packages (3.10.3)\n",
      "Requirement already satisfied: tqdm in /home/vscode/.local/lib/python3.10/site-packages (4.67.1)\n",
      "Requirement already satisfied: seaborn in /home/vscode/.local/lib/python3.10/site-packages (0.13.2)\n",
      "Requirement already satisfied: ipywidgets in /home/vscode/.local/lib/python3.10/site-packages (8.1.7)\n",
      "Requirement already satisfied: numpy>=1.22.4 in /home/vscode/.local/lib/python3.10/site-packages (from pandas) (1.26.4)\n",
      "Requirement already satisfied: python-dateutil>=2.8.2 in /home/vscode/.local/lib/python3.10/site-packages (from pandas) (2.9.0.post0)\n",
      "Requirement already satisfied: pytz>=2020.1 in /home/vscode/.local/lib/python3.10/site-packages (from pandas) (2025.2)\n",
      "Requirement already satisfied: tzdata>=2022.7 in /home/vscode/.local/lib/python3.10/site-packages (from pandas) (2025.2)\n",
      "Requirement already satisfied: contourpy>=1.0.1 in /home/vscode/.local/lib/python3.10/site-packages (from matplotlib) (1.3.2)\n",
      "Requirement already satisfied: cycler>=0.10 in /home/vscode/.local/lib/python3.10/site-packages (from matplotlib) (0.12.1)\n",
      "Requirement already satisfied: fonttools>=4.22.0 in /home/vscode/.local/lib/python3.10/site-packages (from matplotlib) (4.58.1)\n",
      "Requirement already satisfied: kiwisolver>=1.3.1 in /home/vscode/.local/lib/python3.10/site-packages (from matplotlib) (1.4.8)\n",
      "Requirement already satisfied: packaging>=20.0 in /home/vscode/.local/lib/python3.10/site-packages (from matplotlib) (25.0)\n",
      "Requirement already satisfied: pillow>=8 in /home/vscode/.local/lib/python3.10/site-packages (from matplotlib) (11.2.1)\n",
      "Requirement already satisfied: pyparsing>=2.3.1 in /home/vscode/.local/lib/python3.10/site-packages (from matplotlib) (3.2.3)\n",
      "Requirement already satisfied: comm>=0.1.3 in /home/vscode/.local/lib/python3.10/site-packages (from ipywidgets) (0.2.2)\n",
      "Requirement already satisfied: ipython>=6.1.0 in /home/vscode/.local/lib/python3.10/site-packages (from ipywidgets) (8.37.0)\n",
      "Requirement already satisfied: traitlets>=4.3.1 in /home/vscode/.local/lib/python3.10/site-packages (from ipywidgets) (5.14.3)\n",
      "Requirement already satisfied: widgetsnbextension~=4.0.14 in /home/vscode/.local/lib/python3.10/site-packages (from ipywidgets) (4.0.14)\n",
      "Requirement already satisfied: jupyterlab_widgets~=3.0.15 in /home/vscode/.local/lib/python3.10/site-packages (from ipywidgets) (3.0.15)\n",
      "Requirement already satisfied: decorator in /home/vscode/.local/lib/python3.10/site-packages (from ipython>=6.1.0->ipywidgets) (5.2.1)\n",
      "Requirement already satisfied: exceptiongroup in /home/vscode/.local/lib/python3.10/site-packages (from ipython>=6.1.0->ipywidgets) (1.3.0)\n",
      "Requirement already satisfied: jedi>=0.16 in /home/vscode/.local/lib/python3.10/site-packages (from ipython>=6.1.0->ipywidgets) (0.19.2)\n",
      "Requirement already satisfied: matplotlib-inline in /home/vscode/.local/lib/python3.10/site-packages (from ipython>=6.1.0->ipywidgets) (0.1.7)\n",
      "Requirement already satisfied: pexpect>4.3 in /home/vscode/.local/lib/python3.10/site-packages (from ipython>=6.1.0->ipywidgets) (4.9.0)\n",
      "Requirement already satisfied: prompt_toolkit<3.1.0,>=3.0.41 in /home/vscode/.local/lib/python3.10/site-packages (from ipython>=6.1.0->ipywidgets) (3.0.51)\n",
      "Requirement already satisfied: pygments>=2.4.0 in /home/vscode/.local/lib/python3.10/site-packages (from ipython>=6.1.0->ipywidgets) (2.19.1)\n",
      "Requirement already satisfied: stack_data in /home/vscode/.local/lib/python3.10/site-packages (from ipython>=6.1.0->ipywidgets) (0.6.3)\n",
      "Requirement already satisfied: typing_extensions>=4.6 in /home/vscode/.local/lib/python3.10/site-packages (from ipython>=6.1.0->ipywidgets) (4.14.0)\n",
      "Requirement already satisfied: wcwidth in /home/vscode/.local/lib/python3.10/site-packages (from prompt_toolkit<3.1.0,>=3.0.41->ipython>=6.1.0->ipywidgets) (0.2.13)\n",
      "Requirement already satisfied: parso<0.9.0,>=0.8.4 in /home/vscode/.local/lib/python3.10/site-packages (from jedi>=0.16->ipython>=6.1.0->ipywidgets) (0.8.4)\n",
      "Requirement already satisfied: ptyprocess>=0.5 in /home/vscode/.local/lib/python3.10/site-packages (from pexpect>4.3->ipython>=6.1.0->ipywidgets) (0.7.0)\n",
      "Requirement already satisfied: six>=1.5 in /home/vscode/.local/lib/python3.10/site-packages (from python-dateutil>=2.8.2->pandas) (1.17.0)\n",
      "Requirement already satisfied: executing>=1.2.0 in /home/vscode/.local/lib/python3.10/site-packages (from stack_data->ipython>=6.1.0->ipywidgets) (2.2.0)\n",
      "Requirement already satisfied: asttokens>=2.1.0 in /home/vscode/.local/lib/python3.10/site-packages (from stack_data->ipython>=6.1.0->ipywidgets) (3.0.0)\n",
      "Requirement already satisfied: pure-eval in /home/vscode/.local/lib/python3.10/site-packages (from stack_data->ipython>=6.1.0->ipywidgets) (0.2.3)\n",
      "Note: you may need to restart the kernel to use updated packages.\n",
      "Defaulting to user installation because normal site-packages is not writeable\n",
      "Requirement already satisfied: pyarrow in /home/vscode/.local/lib/python3.10/site-packages (20.0.0)\n",
      "Requirement already satisfied: fastparquet in /home/vscode/.local/lib/python3.10/site-packages (2024.11.0)\n",
      "Requirement already satisfied: pandas>=1.5.0 in /home/vscode/.local/lib/python3.10/site-packages (from fastparquet) (2.2.3)\n",
      "Requirement already satisfied: numpy in /home/vscode/.local/lib/python3.10/site-packages (from fastparquet) (1.26.4)\n",
      "Requirement already satisfied: cramjam>=2.3 in /home/vscode/.local/lib/python3.10/site-packages (from fastparquet) (2.10.0)\n",
      "Requirement already satisfied: fsspec in /home/vscode/.local/lib/python3.10/site-packages (from fastparquet) (2025.5.1)\n",
      "Requirement already satisfied: packaging in /home/vscode/.local/lib/python3.10/site-packages (from fastparquet) (25.0)\n",
      "Requirement already satisfied: python-dateutil>=2.8.2 in /home/vscode/.local/lib/python3.10/site-packages (from pandas>=1.5.0->fastparquet) (2.9.0.post0)\n",
      "Requirement already satisfied: pytz>=2020.1 in /home/vscode/.local/lib/python3.10/site-packages (from pandas>=1.5.0->fastparquet) (2025.2)\n",
      "Requirement already satisfied: tzdata>=2022.7 in /home/vscode/.local/lib/python3.10/site-packages (from pandas>=1.5.0->fastparquet) (2025.2)\n",
      "Requirement already satisfied: six>=1.5 in /home/vscode/.local/lib/python3.10/site-packages (from python-dateutil>=2.8.2->pandas>=1.5.0->fastparquet) (1.17.0)\n",
      "Note: you may need to restart the kernel to use updated packages.\n",
      "Defaulting to user installation because normal site-packages is not writeable\n",
      "Requirement already satisfied: scikit-surprise in /home/vscode/.local/lib/python3.10/site-packages (1.1.4)\n",
      "Requirement already satisfied: scikit-learn in /home/vscode/.local/lib/python3.10/site-packages (1.6.1)\n",
      "Requirement already satisfied: lightfm in /home/vscode/.local/lib/python3.10/site-packages (1.17)\n",
      "Requirement already satisfied: joblib>=1.2.0 in /home/vscode/.local/lib/python3.10/site-packages (from scikit-surprise) (1.5.1)\n",
      "Requirement already satisfied: numpy>=1.19.5 in /home/vscode/.local/lib/python3.10/site-packages (from scikit-surprise) (1.26.4)\n",
      "Requirement already satisfied: scipy>=1.6.0 in /home/vscode/.local/lib/python3.10/site-packages (from scikit-surprise) (1.15.3)\n",
      "Requirement already satisfied: threadpoolctl>=3.1.0 in /home/vscode/.local/lib/python3.10/site-packages (from scikit-learn) (3.6.0)\n",
      "Requirement already satisfied: requests in /home/vscode/.local/lib/python3.10/site-packages (from lightfm) (2.32.3)\n",
      "Requirement already satisfied: charset-normalizer<4,>=2 in /home/vscode/.local/lib/python3.10/site-packages (from requests->lightfm) (3.4.2)\n",
      "Requirement already satisfied: idna<4,>=2.5 in /home/vscode/.local/lib/python3.10/site-packages (from requests->lightfm) (3.10)\n",
      "Requirement already satisfied: urllib3<3,>=1.21.1 in /home/vscode/.local/lib/python3.10/site-packages (from requests->lightfm) (2.4.0)\n",
      "Requirement already satisfied: certifi>=2017.4.17 in /home/vscode/.local/lib/python3.10/site-packages (from requests->lightfm) (2025.4.26)\n",
      "Note: you may need to restart the kernel to use updated packages.\n"
     ]
    }
   ],
   "source": [
    "# Actualizar pip\n",
    "%pip install --upgrade pip\n",
    "# Instalar versión específica de numpy\n",
    "%pip install numpy~=1.26\n",
    "# Dependencias para graficar y manipular datos\n",
    "%pip install pandas matplotlib tqdm seaborn ipywidgets\n",
    "# Dependencias para leer archivos Parquet\n",
    "%pip install pyarrow fastparquet\n",
    "# Para predicción\n",
    "%pip install scikit-surprise scikit-learn lightfm"
   ]
  },
  {
   "cell_type": "code",
   "execution_count": 3,
   "id": "a805f399",
   "metadata": {},
   "outputs": [],
   "source": [
    "# Importar librerías\n",
    "\n",
    "# Manejo de datos y visualización\n",
    "import os\n",
    "import pandas as pd\n",
    "import numpy as np\n",
    "import matplotlib.pyplot as plt\n",
    "from collections import defaultdict\n",
    "from tqdm.auto import tqdm\n",
    "\n",
    "# Surprise\n",
    "from surprise import Dataset, Reader, KNNWithMeans, accuracy\n",
    "from surprise.model_selection import train_test_split, cross_validate\n",
    "\n",
    "# LightFM (recomendación basada en contenido)\n",
    "from lightfm import LightFM\n",
    "from scipy.sparse import coo_matrix\n",
    "from sklearn.metrics import precision_score, recall_score\n",
    "\n",
    "# Crear directorios\n",
    "PATH_DATASETS = \"datasets\"\n",
    "PATH_DATASETS_FOODCOM = os.path.join(PATH_DATASETS, \"foodcom\")\n",
    "PATH_DATASETS_MEALRECPLUS = os.path.join(PATH_DATASETS, \"mealrecplus\")\n",
    "PATH_MEALRECPLUS_META_DATA = os.path.join(PATH_DATASETS_MEALRECPLUS, \"MealRecPlus-main/MealRec+/MealRec+H/meta_data/\")\n",
    "PATH_MEALRECPLUS_HEALTHINESS = os.path.join(PATH_DATASETS_MEALRECPLUS, \"MealRecPlus-main/MealRec+/MealRec+H/healthiness/\")\n",
    "os.makedirs(PATH_DATASETS, exist_ok=True)"
   ]
  },
  {
   "cell_type": "code",
   "execution_count": 4,
   "id": "963171f9",
   "metadata": {},
   "outputs": [],
   "source": [
    "if FLAG_DATASET_DL:\n",
    "  # Descargar \"Recipes and Reviews\" de Food.com\n",
    "  os.system(f\"curl -L -o {PATH_DATASETS_FOODCOM}.zip https://www.kaggle.com/api/v1/datasets/download/irkaal/foodcom-recipes-and-reviews\")\n",
    "  os.system(f\"unzip -o {PATH_DATASETS_FOODCOM}.zip -d {PATH_DATASETS_FOODCOM}\")\n",
    "  # Eliminar el zip\n",
    "  os.remove(f\"{PATH_DATASETS_FOODCOM}.zip\")\n",
    "\n",
    "  # Cita: Dominio público (https://www.kaggle.com/datasets/irkaal/foodcom-recipes-and-reviews)\n",
    "\n",
    "  # Descargar \"MealRecPlus\" de WUT-IDEA\n",
    "  os.system(f\"curl -L -o {PATH_DATASETS_MEALRECPLUS}.zip https://github.com/WUT-IDEA/MealRecPlus/archive/refs/heads/main.zip\")\n",
    "  os.system(f\"unzip -o {PATH_DATASETS_MEALRECPLUS}.zip -d {PATH_DATASETS_MEALRECPLUS}\")\n",
    "  os.system(f\"unzip -o {os.path.join(PATH_MEALRECPLUS_META_DATA, 'course')}.zip -d {os.path.join(PATH_MEALRECPLUS_META_DATA, 'course')}\")\n",
    "  os.system(f\"unzip -o {os.path.join(PATH_MEALRECPLUS_META_DATA, 'user_course')}.zip -d {os.path.join(PATH_MEALRECPLUS_META_DATA, 'user_course')}\")\n",
    "  # Eliminar el zip\n",
    "  os.remove(f\"{PATH_DATASETS_MEALRECPLUS}.zip\")\n",
    "  os.remove(os.path.join(PATH_MEALRECPLUS_META_DATA, \"course.zip\"))\n",
    "  os.remove(os.path.join(PATH_MEALRECPLUS_META_DATA, \"user_course.zip\"))\n",
    "  # Cita: Ming Li, Lin Li, Xiaohui Tao, and Jimmy Xiangji Huang. 2024. MealRec+: A Meal Recommendation Dataset with Meal-Course Affiliation for Personal- ization and Healthiness. In Proceedings of the 47th International ACM SIGIR Conference on Research and Development in Information Retrieval (SIGIR ’24), July 14–18, 2024, Washington, DC, USA. ACM, New York, NY, USA, 11 pages. https://doi.org/10.1145/3626772.3657857 (https://github.com/WUT-IDEA/MealRecPlus)"
   ]
  },
  {
   "cell_type": "code",
   "execution_count": 5,
   "id": "b939a419",
   "metadata": {},
   "outputs": [],
   "source": [
    "# Foodcom dataframes\n",
    "df_foodcom_recipes = pd.read_parquet(os.path.join(PATH_DATASETS_FOODCOM, \"recipes.parquet\"))\n",
    "df_foodcom_reviews = pd.read_parquet(os.path.join(PATH_DATASETS_FOODCOM, \"reviews.parquet\"))"
   ]
  },
  {
   "cell_type": "code",
   "execution_count": 6,
   "id": "54be47ac",
   "metadata": {},
   "outputs": [
    {
     "name": "stdout",
     "output_type": "stream",
     "text": [
      "<class 'pandas.core.frame.DataFrame'>\n",
      "RangeIndex: 522517 entries, 0 to 522516\n",
      "Data columns (total 28 columns):\n",
      " #   Column                      Non-Null Count   Dtype              \n",
      "---  ------                      --------------   -----              \n",
      " 0   RecipeId                    522517 non-null  float64            \n",
      " 1   Name                        522517 non-null  object             \n",
      " 2   AuthorId                    522517 non-null  int32              \n",
      " 3   AuthorName                  522517 non-null  object             \n",
      " 4   CookTime                    439972 non-null  object             \n",
      " 5   PrepTime                    522517 non-null  object             \n",
      " 6   TotalTime                   522517 non-null  object             \n",
      " 7   DatePublished               522517 non-null  datetime64[us, UTC]\n",
      " 8   Description                 522512 non-null  object             \n",
      " 9   Images                      522516 non-null  object             \n",
      " 10  RecipeCategory              521766 non-null  object             \n",
      " 11  Keywords                    522517 non-null  object             \n",
      " 12  RecipeIngredientQuantities  522517 non-null  object             \n",
      " 13  RecipeIngredientParts       522517 non-null  object             \n",
      " 14  AggregatedRating            269294 non-null  float64            \n",
      " 15  ReviewCount                 275028 non-null  float64            \n",
      " 16  Calories                    522517 non-null  float64            \n",
      " 17  FatContent                  522517 non-null  float64            \n",
      " 18  SaturatedFatContent         522517 non-null  float64            \n",
      " 19  CholesterolContent          522517 non-null  float64            \n",
      " 20  SodiumContent               522517 non-null  float64            \n",
      " 21  CarbohydrateContent         522517 non-null  float64            \n",
      " 22  FiberContent                522517 non-null  float64            \n",
      " 23  SugarContent                522517 non-null  float64            \n",
      " 24  ProteinContent              522517 non-null  float64            \n",
      " 25  RecipeServings              339606 non-null  float64            \n",
      " 26  RecipeYield                 174446 non-null  object             \n",
      " 27  RecipeInstructions          522517 non-null  object             \n",
      "dtypes: datetime64[us, UTC](1), float64(13), int32(1), object(13)\n",
      "memory usage: 109.6+ MB\n"
     ]
    }
   ],
   "source": [
    "# Recetas de Foodcom\n",
    "df_foodcom_recipes.info()"
   ]
  },
  {
   "cell_type": "code",
   "execution_count": 7,
   "id": "d12d3b1c",
   "metadata": {},
   "outputs": [
    {
     "name": "stdout",
     "output_type": "stream",
     "text": [
      "<class 'pandas.core.frame.DataFrame'>\n",
      "RangeIndex: 1401982 entries, 0 to 1401981\n",
      "Data columns (total 8 columns):\n",
      " #   Column         Non-Null Count    Dtype              \n",
      "---  ------         --------------    -----              \n",
      " 0   ReviewId       1401982 non-null  int32              \n",
      " 1   RecipeId       1401982 non-null  int32              \n",
      " 2   AuthorId       1401982 non-null  int32              \n",
      " 3   AuthorName     1401982 non-null  object             \n",
      " 4   Rating         1401982 non-null  int32              \n",
      " 5   Review         1401982 non-null  object             \n",
      " 6   DateSubmitted  1401982 non-null  datetime64[us, UTC]\n",
      " 7   DateModified   1401982 non-null  datetime64[us, UTC]\n",
      "dtypes: datetime64[us, UTC](2), int32(4), object(2)\n",
      "memory usage: 64.2+ MB\n"
     ]
    }
   ],
   "source": [
    "# Reviews de Foodcom\n",
    "df_foodcom_reviews.info()"
   ]
  },
  {
   "cell_type": "code",
   "execution_count": 8,
   "id": "3f594b14",
   "metadata": {},
   "outputs": [
    {
     "name": "stderr",
     "output_type": "stream",
     "text": [
      "/tmp/ipykernel_35089/1509488380.py:2: DtypeWarning: Columns (0,1,2) have mixed types. Specify dtype option on import or set low_memory=False.\n",
      "  df_mealrecplus_user_course = pd.read_csv(\n"
     ]
    }
   ],
   "source": [
    "# MealRecPlus dataframes\n",
    "df_mealrecplus_user_course = pd.read_csv(\n",
    "    os.path.join(PATH_MEALRECPLUS_META_DATA, \"user_course\", \"user_course.csv\"),\n",
    "    names=[\"user_id\", \"course_id\", \"rating\", \"dateLastModified\"],\n",
    "    header=None\n",
    ")\n",
    "# Convertir la columna 'rating' a tipo numérico, forzando los errores a NaN\n",
    "df_mealrecplus_user_course['rating'] = pd.to_numeric(df_mealrecplus_user_course['rating'], errors='coerce')\n",
    "df_mealrecplus_user_course.dropna(subset=['rating'], inplace=True)\n",
    "\n",
    "# Cargar metadatos de platos\n",
    "df_mealrecplus_course = pd.read_csv(os.path.join(PATH_MEALRECPLUS_META_DATA, \"course\", \"course.csv\"))\n",
    "\n",
    "# Cargar los índices de usuarios y cursos\n",
    "df_mealrecplus_user2index = pd.read_csv(os.path.join(PATH_MEALRECPLUS_META_DATA, \"user2index.txt\"), sep=\"\\t\", names=[\"user_id\", \"user_index\"])\n",
    "df_mealrecplus_course2index = pd.read_csv(os.path.join(PATH_MEALRECPLUS_META_DATA, \"course2index.txt\"), sep=\"\\t\", names=[\"course_id\", \"course_index\"])\n",
    "\n",
    "# Healthiness scores for MealRecPlus\n",
    "df_mealrecplus_course_fsa = pd.read_csv(os.path.join(PATH_MEALRECPLUS_HEALTHINESS, \"course_fsa.txt\"), header=None, names=[\"fsa_score\"])\n",
    "df_mealrecplus_course_who = pd.read_csv(os.path.join(PATH_MEALRECPLUS_HEALTHINESS, \"course_who.txt\"), header=None, names=[\"who_score\"])\n",
    "\n",
    "# Puntajes por comida (meal)\n",
    "df_mealrecplus_meal_fsa = pd.read_csv(os.path.join(PATH_MEALRECPLUS_HEALTHINESS, \"meal_fsa.txt\"), header=None, names=[\"fsa_score\"])\n",
    "df_mealrecplus_meal_who = pd.read_csv(os.path.join(PATH_MEALRECPLUS_HEALTHINESS, \"meal_who.txt\"), header=None, names=[\"who_score\"])\n",
    "\n",
    "# Puntajes promedio por usuario según sus comidas\n",
    "df_mealrecplus_user_fsa = pd.read_csv(os.path.join(PATH_MEALRECPLUS_HEALTHINESS, \"user_fsa.txt\"), header=None, names=[\"fsa_score\"])\n",
    "df_mealrecplus_user_who = pd.read_csv(os.path.join(PATH_MEALRECPLUS_HEALTHINESS, \"user_who.txt\"), header=None, names=[\"who_score\"])"
   ]
  },
  {
   "cell_type": "code",
   "execution_count": 9,
   "id": "db823d5f",
   "metadata": {},
   "outputs": [
    {
     "name": "stdout",
     "output_type": "stream",
     "text": [
      "<class 'pandas.core.frame.DataFrame'>\n",
      "Index: 151148 entries, 1 to 151148\n",
      "Data columns (total 4 columns):\n",
      " #   Column            Non-Null Count   Dtype  \n",
      "---  ------            --------------   -----  \n",
      " 0   user_id           151148 non-null  object \n",
      " 1   course_id         151148 non-null  object \n",
      " 2   rating            151148 non-null  float64\n",
      " 3   dateLastModified  151148 non-null  object \n",
      "dtypes: float64(1), object(3)\n",
      "memory usage: 5.8+ MB\n"
     ]
    }
   ],
   "source": [
    "df_mealrecplus_user_course.info()"
   ]
  },
  {
   "cell_type": "code",
   "execution_count": 10,
   "id": "080a1f3b",
   "metadata": {},
   "outputs": [
    {
     "name": "stdout",
     "output_type": "stream",
     "text": [
      "<class 'pandas.core.frame.DataFrame'>\n",
      "RangeIndex: 7280 entries, 0 to 7279\n",
      "Data columns (total 11 columns):\n",
      " #   Column              Non-Null Count  Dtype  \n",
      "---  ------              --------------  -----  \n",
      " 0   course_id           7280 non-null   int64  \n",
      " 1   course_name         7280 non-null   object \n",
      " 2   review_nums         7280 non-null   int64  \n",
      " 3   category            7280 non-null   object \n",
      " 4   aver_rate           7280 non-null   float64\n",
      " 5   image_url           7280 non-null   object \n",
      " 6   ingredients         7280 non-null   object \n",
      " 7   cooking_directions  7280 non-null   object \n",
      " 8   nutritions          7280 non-null   object \n",
      " 9   reviews             7280 non-null   object \n",
      " 10  tags                7278 non-null   object \n",
      "dtypes: float64(1), int64(2), object(8)\n",
      "memory usage: 625.8+ KB\n"
     ]
    }
   ],
   "source": [
    "df_mealrecplus_course.info()"
   ]
  },
  {
   "cell_type": "code",
   "execution_count": 11,
   "id": "d5fc5b80",
   "metadata": {},
   "outputs": [
    {
     "name": "stdout",
     "output_type": "stream",
     "text": [
      "<class 'pandas.core.frame.DataFrame'>\n",
      "RangeIndex: 1575 entries, 0 to 1574\n",
      "Data columns (total 2 columns):\n",
      " #   Column      Non-Null Count  Dtype\n",
      "---  ------      --------------  -----\n",
      " 0   user_id     1575 non-null   int64\n",
      " 1   user_index  1575 non-null   int64\n",
      "dtypes: int64(2)\n",
      "memory usage: 24.7 KB\n"
     ]
    }
   ],
   "source": [
    "df_mealrecplus_user2index.info()"
   ]
  },
  {
   "cell_type": "code",
   "execution_count": 12,
   "id": "7019e2a2",
   "metadata": {},
   "outputs": [
    {
     "name": "stdout",
     "output_type": "stream",
     "text": [
      "<class 'pandas.core.frame.DataFrame'>\n",
      "RangeIndex: 7280 entries, 0 to 7279\n",
      "Data columns (total 2 columns):\n",
      " #   Column        Non-Null Count  Dtype\n",
      "---  ------        --------------  -----\n",
      " 0   course_id     7280 non-null   int64\n",
      " 1   course_index  7280 non-null   int64\n",
      "dtypes: int64(2)\n",
      "memory usage: 113.9 KB\n"
     ]
    }
   ],
   "source": [
    "df_mealrecplus_course2index.info()"
   ]
  },
  {
   "cell_type": "code",
   "execution_count": 13,
   "id": "6cf97c5e",
   "metadata": {},
   "outputs": [
    {
     "name": "stdout",
     "output_type": "stream",
     "text": [
      "<class 'pandas.core.frame.DataFrame'>\n",
      "RangeIndex: 7280 entries, 0 to 7279\n",
      "Data columns (total 1 columns):\n",
      " #   Column     Non-Null Count  Dtype\n",
      "---  ------     --------------  -----\n",
      " 0   fsa_score  7280 non-null   int64\n",
      "dtypes: int64(1)\n",
      "memory usage: 57.0 KB\n"
     ]
    }
   ],
   "source": [
    "df_mealrecplus_course_fsa.info()"
   ]
  },
  {
   "cell_type": "code",
   "execution_count": 14,
   "id": "3c468769",
   "metadata": {},
   "outputs": [
    {
     "name": "stdout",
     "output_type": "stream",
     "text": [
      "<class 'pandas.core.frame.DataFrame'>\n",
      "RangeIndex: 7280 entries, 0 to 7279\n",
      "Data columns (total 1 columns):\n",
      " #   Column     Non-Null Count  Dtype\n",
      "---  ------     --------------  -----\n",
      " 0   who_score  7280 non-null   int64\n",
      "dtypes: int64(1)\n",
      "memory usage: 57.0 KB\n"
     ]
    }
   ],
   "source": [
    "df_mealrecplus_course_who.info()"
   ]
  },
  {
   "cell_type": "code",
   "execution_count": 15,
   "id": "2a431a59",
   "metadata": {},
   "outputs": [
    {
     "name": "stdout",
     "output_type": "stream",
     "text": [
      "<class 'pandas.core.frame.DataFrame'>\n",
      "RangeIndex: 3817 entries, 0 to 3816\n",
      "Data columns (total 1 columns):\n",
      " #   Column     Non-Null Count  Dtype  \n",
      "---  ------     --------------  -----  \n",
      " 0   fsa_score  3817 non-null   float64\n",
      "dtypes: float64(1)\n",
      "memory usage: 29.9 KB\n"
     ]
    }
   ],
   "source": [
    "df_mealrecplus_meal_fsa.info()"
   ]
  },
  {
   "cell_type": "code",
   "execution_count": 16,
   "id": "95bc85a4",
   "metadata": {},
   "outputs": [
    {
     "name": "stdout",
     "output_type": "stream",
     "text": [
      "<class 'pandas.core.frame.DataFrame'>\n",
      "RangeIndex: 3817 entries, 0 to 3816\n",
      "Data columns (total 1 columns):\n",
      " #   Column     Non-Null Count  Dtype  \n",
      "---  ------     --------------  -----  \n",
      " 0   who_score  3817 non-null   float64\n",
      "dtypes: float64(1)\n",
      "memory usage: 29.9 KB\n"
     ]
    }
   ],
   "source": [
    "df_mealrecplus_meal_who.info()"
   ]
  },
  {
   "cell_type": "code",
   "execution_count": 17,
   "id": "1a6e230d",
   "metadata": {},
   "outputs": [
    {
     "name": "stdout",
     "output_type": "stream",
     "text": [
      "<class 'pandas.core.frame.DataFrame'>\n",
      "RangeIndex: 1575 entries, 0 to 1574\n",
      "Data columns (total 1 columns):\n",
      " #   Column     Non-Null Count  Dtype  \n",
      "---  ------     --------------  -----  \n",
      " 0   fsa_score  1575 non-null   float64\n",
      "dtypes: float64(1)\n",
      "memory usage: 12.4 KB\n"
     ]
    }
   ],
   "source": [
    "df_mealrecplus_user_fsa.info()"
   ]
  },
  {
   "cell_type": "code",
   "execution_count": 18,
   "id": "25f06ef3",
   "metadata": {},
   "outputs": [
    {
     "name": "stdout",
     "output_type": "stream",
     "text": [
      "<class 'pandas.core.frame.DataFrame'>\n",
      "RangeIndex: 1575 entries, 0 to 1574\n",
      "Data columns (total 1 columns):\n",
      " #   Column     Non-Null Count  Dtype  \n",
      "---  ------     --------------  -----  \n",
      " 0   who_score  1575 non-null   float64\n",
      "dtypes: float64(1)\n",
      "memory usage: 12.4 KB\n"
     ]
    }
   ],
   "source": [
    "df_mealrecplus_user_who.info()"
   ]
  },
  {
   "cell_type": "code",
   "execution_count": 19,
   "id": "7aa455c6",
   "metadata": {},
   "outputs": [
    {
     "data": {
      "text/html": [
       "<div>\n",
       "<style scoped>\n",
       "    .dataframe tbody tr th:only-of-type {\n",
       "        vertical-align: middle;\n",
       "    }\n",
       "\n",
       "    .dataframe tbody tr th {\n",
       "        vertical-align: top;\n",
       "    }\n",
       "\n",
       "    .dataframe thead th {\n",
       "        text-align: right;\n",
       "    }\n",
       "</style>\n",
       "<table border=\"1\" class=\"dataframe\">\n",
       "  <thead>\n",
       "    <tr style=\"text-align: right;\">\n",
       "      <th></th>\n",
       "      <th>RecipeId</th>\n",
       "      <th>Name</th>\n",
       "      <th>AuthorId</th>\n",
       "      <th>AuthorName</th>\n",
       "      <th>CookTime</th>\n",
       "      <th>PrepTime</th>\n",
       "      <th>TotalTime</th>\n",
       "      <th>DatePublished</th>\n",
       "      <th>Description</th>\n",
       "      <th>Images</th>\n",
       "      <th>...</th>\n",
       "      <th>SaturatedFatContent</th>\n",
       "      <th>CholesterolContent</th>\n",
       "      <th>SodiumContent</th>\n",
       "      <th>CarbohydrateContent</th>\n",
       "      <th>FiberContent</th>\n",
       "      <th>SugarContent</th>\n",
       "      <th>ProteinContent</th>\n",
       "      <th>RecipeServings</th>\n",
       "      <th>RecipeYield</th>\n",
       "      <th>RecipeInstructions</th>\n",
       "    </tr>\n",
       "  </thead>\n",
       "  <tbody>\n",
       "    <tr>\n",
       "      <th>0</th>\n",
       "      <td>38.0</td>\n",
       "      <td>Low-Fat Berry Blue Frozen Dessert</td>\n",
       "      <td>1533</td>\n",
       "      <td>Dancer</td>\n",
       "      <td>PT24H</td>\n",
       "      <td>PT45M</td>\n",
       "      <td>PT24H45M</td>\n",
       "      <td>1999-08-09 21:46:00+00:00</td>\n",
       "      <td>Make and share this Low-Fat Berry Blue Frozen ...</td>\n",
       "      <td>[https://img.sndimg.com/food/image/upload/w_55...</td>\n",
       "      <td>...</td>\n",
       "      <td>1.3</td>\n",
       "      <td>8.0</td>\n",
       "      <td>29.8</td>\n",
       "      <td>37.1</td>\n",
       "      <td>3.6</td>\n",
       "      <td>30.2</td>\n",
       "      <td>3.2</td>\n",
       "      <td>4.0</td>\n",
       "      <td>None</td>\n",
       "      <td>[Toss 2 cups berries with sugar., Let stand fo...</td>\n",
       "    </tr>\n",
       "    <tr>\n",
       "      <th>1</th>\n",
       "      <td>39.0</td>\n",
       "      <td>Biryani</td>\n",
       "      <td>1567</td>\n",
       "      <td>elly9812</td>\n",
       "      <td>PT25M</td>\n",
       "      <td>PT4H</td>\n",
       "      <td>PT4H25M</td>\n",
       "      <td>1999-08-29 13:12:00+00:00</td>\n",
       "      <td>Make and share this Biryani recipe from Food.com.</td>\n",
       "      <td>[https://img.sndimg.com/food/image/upload/w_55...</td>\n",
       "      <td>...</td>\n",
       "      <td>16.6</td>\n",
       "      <td>372.8</td>\n",
       "      <td>368.4</td>\n",
       "      <td>84.4</td>\n",
       "      <td>9.0</td>\n",
       "      <td>20.4</td>\n",
       "      <td>63.4</td>\n",
       "      <td>6.0</td>\n",
       "      <td>None</td>\n",
       "      <td>[Soak saffron in warm milk for 5 minutes and p...</td>\n",
       "    </tr>\n",
       "    <tr>\n",
       "      <th>2</th>\n",
       "      <td>40.0</td>\n",
       "      <td>Best Lemonade</td>\n",
       "      <td>1566</td>\n",
       "      <td>Stephen Little</td>\n",
       "      <td>PT5M</td>\n",
       "      <td>PT30M</td>\n",
       "      <td>PT35M</td>\n",
       "      <td>1999-09-05 19:52:00+00:00</td>\n",
       "      <td>This is from one of my  first Good House Keepi...</td>\n",
       "      <td>[https://img.sndimg.com/food/image/upload/w_55...</td>\n",
       "      <td>...</td>\n",
       "      <td>0.0</td>\n",
       "      <td>0.0</td>\n",
       "      <td>1.8</td>\n",
       "      <td>81.5</td>\n",
       "      <td>0.4</td>\n",
       "      <td>77.2</td>\n",
       "      <td>0.3</td>\n",
       "      <td>4.0</td>\n",
       "      <td>None</td>\n",
       "      <td>[Into a 1 quart Jar with tight fitting lid, pu...</td>\n",
       "    </tr>\n",
       "    <tr>\n",
       "      <th>3</th>\n",
       "      <td>41.0</td>\n",
       "      <td>Carina's Tofu-Vegetable Kebabs</td>\n",
       "      <td>1586</td>\n",
       "      <td>Cyclopz</td>\n",
       "      <td>PT20M</td>\n",
       "      <td>PT24H</td>\n",
       "      <td>PT24H20M</td>\n",
       "      <td>1999-09-03 14:54:00+00:00</td>\n",
       "      <td>This dish is best prepared a day in advance to...</td>\n",
       "      <td>[https://img.sndimg.com/food/image/upload/w_55...</td>\n",
       "      <td>...</td>\n",
       "      <td>3.8</td>\n",
       "      <td>0.0</td>\n",
       "      <td>1558.6</td>\n",
       "      <td>64.2</td>\n",
       "      <td>17.3</td>\n",
       "      <td>32.1</td>\n",
       "      <td>29.3</td>\n",
       "      <td>2.0</td>\n",
       "      <td>4 kebabs</td>\n",
       "      <td>[Drain the tofu, carefully squeezing out exces...</td>\n",
       "    </tr>\n",
       "    <tr>\n",
       "      <th>4</th>\n",
       "      <td>42.0</td>\n",
       "      <td>Cabbage Soup</td>\n",
       "      <td>1538</td>\n",
       "      <td>Duckie067</td>\n",
       "      <td>PT30M</td>\n",
       "      <td>PT20M</td>\n",
       "      <td>PT50M</td>\n",
       "      <td>1999-09-19 06:19:00+00:00</td>\n",
       "      <td>Make and share this Cabbage Soup recipe from F...</td>\n",
       "      <td>[https://img.sndimg.com/food/image/upload/w_55...</td>\n",
       "      <td>...</td>\n",
       "      <td>0.1</td>\n",
       "      <td>0.0</td>\n",
       "      <td>959.3</td>\n",
       "      <td>25.1</td>\n",
       "      <td>4.8</td>\n",
       "      <td>17.7</td>\n",
       "      <td>4.3</td>\n",
       "      <td>4.0</td>\n",
       "      <td>None</td>\n",
       "      <td>[Mix everything together and bring to a boil.,...</td>\n",
       "    </tr>\n",
       "  </tbody>\n",
       "</table>\n",
       "<p>5 rows × 28 columns</p>\n",
       "</div>"
      ],
      "text/plain": [
       "   RecipeId                               Name  AuthorId      AuthorName  \\\n",
       "0      38.0  Low-Fat Berry Blue Frozen Dessert      1533          Dancer   \n",
       "1      39.0                            Biryani      1567        elly9812   \n",
       "2      40.0                      Best Lemonade      1566  Stephen Little   \n",
       "3      41.0     Carina's Tofu-Vegetable Kebabs      1586         Cyclopz   \n",
       "4      42.0                       Cabbage Soup      1538       Duckie067   \n",
       "\n",
       "  CookTime PrepTime TotalTime             DatePublished  \\\n",
       "0    PT24H    PT45M  PT24H45M 1999-08-09 21:46:00+00:00   \n",
       "1    PT25M     PT4H   PT4H25M 1999-08-29 13:12:00+00:00   \n",
       "2     PT5M    PT30M     PT35M 1999-09-05 19:52:00+00:00   \n",
       "3    PT20M    PT24H  PT24H20M 1999-09-03 14:54:00+00:00   \n",
       "4    PT30M    PT20M     PT50M 1999-09-19 06:19:00+00:00   \n",
       "\n",
       "                                         Description  \\\n",
       "0  Make and share this Low-Fat Berry Blue Frozen ...   \n",
       "1  Make and share this Biryani recipe from Food.com.   \n",
       "2  This is from one of my  first Good House Keepi...   \n",
       "3  This dish is best prepared a day in advance to...   \n",
       "4  Make and share this Cabbage Soup recipe from F...   \n",
       "\n",
       "                                              Images  ... SaturatedFatContent  \\\n",
       "0  [https://img.sndimg.com/food/image/upload/w_55...  ...                 1.3   \n",
       "1  [https://img.sndimg.com/food/image/upload/w_55...  ...                16.6   \n",
       "2  [https://img.sndimg.com/food/image/upload/w_55...  ...                 0.0   \n",
       "3  [https://img.sndimg.com/food/image/upload/w_55...  ...                 3.8   \n",
       "4  [https://img.sndimg.com/food/image/upload/w_55...  ...                 0.1   \n",
       "\n",
       "  CholesterolContent SodiumContent CarbohydrateContent  FiberContent  \\\n",
       "0                8.0          29.8                37.1           3.6   \n",
       "1              372.8         368.4                84.4           9.0   \n",
       "2                0.0           1.8                81.5           0.4   \n",
       "3                0.0        1558.6                64.2          17.3   \n",
       "4                0.0         959.3                25.1           4.8   \n",
       "\n",
       "   SugarContent  ProteinContent  RecipeServings  RecipeYield  \\\n",
       "0          30.2             3.2             4.0         None   \n",
       "1          20.4            63.4             6.0         None   \n",
       "2          77.2             0.3             4.0         None   \n",
       "3          32.1            29.3             2.0     4 kebabs   \n",
       "4          17.7             4.3             4.0         None   \n",
       "\n",
       "                                  RecipeInstructions  \n",
       "0  [Toss 2 cups berries with sugar., Let stand fo...  \n",
       "1  [Soak saffron in warm milk for 5 minutes and p...  \n",
       "2  [Into a 1 quart Jar with tight fitting lid, pu...  \n",
       "3  [Drain the tofu, carefully squeezing out exces...  \n",
       "4  [Mix everything together and bring to a boil.,...  \n",
       "\n",
       "[5 rows x 28 columns]"
      ]
     },
     "metadata": {},
     "output_type": "display_data"
    },
    {
     "data": {
      "text/html": [
       "<div>\n",
       "<style scoped>\n",
       "    .dataframe tbody tr th:only-of-type {\n",
       "        vertical-align: middle;\n",
       "    }\n",
       "\n",
       "    .dataframe tbody tr th {\n",
       "        vertical-align: top;\n",
       "    }\n",
       "\n",
       "    .dataframe thead th {\n",
       "        text-align: right;\n",
       "    }\n",
       "</style>\n",
       "<table border=\"1\" class=\"dataframe\">\n",
       "  <thead>\n",
       "    <tr style=\"text-align: right;\">\n",
       "      <th></th>\n",
       "      <th>ReviewId</th>\n",
       "      <th>RecipeId</th>\n",
       "      <th>AuthorId</th>\n",
       "      <th>AuthorName</th>\n",
       "      <th>Rating</th>\n",
       "      <th>Review</th>\n",
       "      <th>DateSubmitted</th>\n",
       "      <th>DateModified</th>\n",
       "    </tr>\n",
       "  </thead>\n",
       "  <tbody>\n",
       "    <tr>\n",
       "      <th>0</th>\n",
       "      <td>2</td>\n",
       "      <td>992</td>\n",
       "      <td>2008</td>\n",
       "      <td>gayg msft</td>\n",
       "      <td>5</td>\n",
       "      <td>better than any you can get at a restaurant!</td>\n",
       "      <td>2000-01-25 21:44:00+00:00</td>\n",
       "      <td>2000-01-25 21:44:00+00:00</td>\n",
       "    </tr>\n",
       "    <tr>\n",
       "      <th>1</th>\n",
       "      <td>7</td>\n",
       "      <td>4384</td>\n",
       "      <td>1634</td>\n",
       "      <td>Bill Hilbrich</td>\n",
       "      <td>4</td>\n",
       "      <td>I cut back on the mayo, and made up the differ...</td>\n",
       "      <td>2001-10-17 16:49:59+00:00</td>\n",
       "      <td>2001-10-17 16:49:59+00:00</td>\n",
       "    </tr>\n",
       "    <tr>\n",
       "      <th>2</th>\n",
       "      <td>9</td>\n",
       "      <td>4523</td>\n",
       "      <td>2046</td>\n",
       "      <td>Gay Gilmore ckpt</td>\n",
       "      <td>2</td>\n",
       "      <td>i think i did something wrong because i could ...</td>\n",
       "      <td>2000-02-25 09:00:00+00:00</td>\n",
       "      <td>2000-02-25 09:00:00+00:00</td>\n",
       "    </tr>\n",
       "    <tr>\n",
       "      <th>3</th>\n",
       "      <td>13</td>\n",
       "      <td>7435</td>\n",
       "      <td>1773</td>\n",
       "      <td>Malarkey Test</td>\n",
       "      <td>5</td>\n",
       "      <td>easily the best i have ever had.  juicy flavor...</td>\n",
       "      <td>2000-03-13 21:15:00+00:00</td>\n",
       "      <td>2000-03-13 21:15:00+00:00</td>\n",
       "    </tr>\n",
       "    <tr>\n",
       "      <th>4</th>\n",
       "      <td>14</td>\n",
       "      <td>44</td>\n",
       "      <td>2085</td>\n",
       "      <td>Tony Small</td>\n",
       "      <td>5</td>\n",
       "      <td>An excellent dish.</td>\n",
       "      <td>2000-03-28 12:51:00+00:00</td>\n",
       "      <td>2000-03-28 12:51:00+00:00</td>\n",
       "    </tr>\n",
       "  </tbody>\n",
       "</table>\n",
       "</div>"
      ],
      "text/plain": [
       "   ReviewId  RecipeId  AuthorId        AuthorName  Rating  \\\n",
       "0         2       992      2008         gayg msft       5   \n",
       "1         7      4384      1634     Bill Hilbrich       4   \n",
       "2         9      4523      2046  Gay Gilmore ckpt       2   \n",
       "3        13      7435      1773     Malarkey Test       5   \n",
       "4        14        44      2085        Tony Small       5   \n",
       "\n",
       "                                              Review  \\\n",
       "0       better than any you can get at a restaurant!   \n",
       "1  I cut back on the mayo, and made up the differ...   \n",
       "2  i think i did something wrong because i could ...   \n",
       "3  easily the best i have ever had.  juicy flavor...   \n",
       "4                                 An excellent dish.   \n",
       "\n",
       "              DateSubmitted              DateModified  \n",
       "0 2000-01-25 21:44:00+00:00 2000-01-25 21:44:00+00:00  \n",
       "1 2001-10-17 16:49:59+00:00 2001-10-17 16:49:59+00:00  \n",
       "2 2000-02-25 09:00:00+00:00 2000-02-25 09:00:00+00:00  \n",
       "3 2000-03-13 21:15:00+00:00 2000-03-13 21:15:00+00:00  \n",
       "4 2000-03-28 12:51:00+00:00 2000-03-28 12:51:00+00:00  "
      ]
     },
     "metadata": {},
     "output_type": "display_data"
    }
   ],
   "source": [
    "display(df_foodcom_recipes.head())\n",
    "display(df_foodcom_reviews.head())"
   ]
  },
  {
   "cell_type": "markdown",
   "id": "06026a18",
   "metadata": {},
   "source": [
    "## 2. Preprocesamiento de datos"
   ]
  },
  {
   "cell_type": "markdown",
   "id": "8826eeb0",
   "metadata": {},
   "source": [
    "### 2.1. Food.com\n",
    "\n",
    "En df_foodcom_reviews:\n",
    "- \"AuthorId\" -> \"user_id\" (int)\n",
    "- \"RecipeId\" -> \"recipe_id\" (int)\n",
    "- \"Rating\" -> \"rating\" (float)\n",
    "\n",
    "y mantenemos las columnas \"DateSubmitted\" y \"ReviewId\"."
   ]
  },
  {
   "cell_type": "code",
   "execution_count": 20,
   "id": "a383a4fb",
   "metadata": {},
   "outputs": [
    {
     "name": "stdout",
     "output_type": "stream",
     "text": [
      "<class 'pandas.core.frame.DataFrame'>\n",
      "RangeIndex: 1401982 entries, 0 to 1401981\n",
      "Data columns (total 5 columns):\n",
      " #   Column         Non-Null Count    Dtype              \n",
      "---  ------         --------------    -----              \n",
      " 0   user_id        1401982 non-null  int64              \n",
      " 1   recipe_id      1401982 non-null  int64              \n",
      " 2   rating         1401982 non-null  float64            \n",
      " 3   DateSubmitted  1401982 non-null  datetime64[us, UTC]\n",
      " 4   ReviewId       1401982 non-null  int32              \n",
      "dtypes: datetime64[us, UTC](1), float64(1), int32(1), int64(2)\n",
      "memory usage: 48.1 MB\n"
     ]
    }
   ],
   "source": [
    "df_ratings = df_foodcom_reviews.rename(columns={\n",
    "    'AuthorId': 'user_id',\n",
    "    'RecipeId': 'recipe_id',\n",
    "    'Rating'  : 'rating'\n",
    "})[['user_id', 'recipe_id', 'rating', 'DateSubmitted', 'ReviewId']]\n",
    "\n",
    "df_ratings['user_id']   = df_ratings['user_id'].astype(int)\n",
    "df_ratings['recipe_id'] = df_ratings['recipe_id'].astype(int)\n",
    "df_ratings['rating']    = df_ratings['rating'].astype(float)\n",
    "\n",
    "# Mostrar información del dataframe de ratings\n",
    "df_ratings.info()"
   ]
  },
  {
   "cell_type": "markdown",
   "id": "e2a7bbd2",
   "metadata": {},
   "source": [
    "En df_foodcom_recipes:\n",
    "- \"RecipeId\" -> \"recipe_id\" (int)\n",
    "\n",
    "y mantenemos las columnas, anotando como filtro las nutricionales."
   ]
  },
  {
   "cell_type": "code",
   "execution_count": 21,
   "id": "e862d80a",
   "metadata": {},
   "outputs": [],
   "source": [
    "df_recipes = df_foodcom_recipes.rename(columns={\n",
    "    'RecipeId': 'recipe_id'\n",
    "}).copy()\n",
    "\n",
    "df_recipes['recipe_id'] = df_recipes['recipe_id'].astype(int)\n",
    "\n",
    "nutri_cols = [\n",
    "    'Calories',\n",
    "    'FatContent',\n",
    "    'SaturatedFatContent',\n",
    "    'CholesterolContent',\n",
    "    'SodiumContent',\n",
    "    'CarbohydrateContent',\n",
    "    'FiberContent',\n",
    "    'SugarContent',\n",
    "    'ProteinContent'\n",
    "]"
   ]
  },
  {
   "cell_type": "markdown",
   "id": "0f315b01",
   "metadata": {},
   "source": [
    "### 2.2. Filtrado de datos"
   ]
  },
  {
   "cell_type": "code",
   "execution_count": 22,
   "id": "120ed856",
   "metadata": {},
   "outputs": [
    {
     "name": "stdout",
     "output_type": "stream",
     "text": [
      "Ratings originales: 1,401,982 | Filtrados: 783,379\n"
     ]
    }
   ],
   "source": [
    "# Filtrado inicial para evitar dataset muy disperso\n",
    "\n",
    "# Contemos cuántos ratings por usuario y por receta\n",
    "user_counts   = df_ratings['user_id'].value_counts()\n",
    "recipe_counts = df_ratings['recipe_id'].value_counts()\n",
    "\n",
    "# Nos quedamos solo con:\n",
    "# - Usuarios con >= 5 ratings\n",
    "# - Recetas con >= 5 ratings\n",
    "users_filt   = user_counts[user_counts >= 5].index\n",
    "recipes_filt = recipe_counts[recipe_counts >= 5].index\n",
    "\n",
    "df_ratings_filt = df_ratings[\n",
    "    df_ratings['user_id'].isin(users_filt) & \n",
    "    df_ratings['recipe_id'].isin(recipes_filt)\n",
    "].copy()\n",
    "\n",
    "print(f\"Ratings originales: {len(df_ratings):,} | Filtrados: {len(df_ratings_filt):,}\")\n"
   ]
  },
  {
   "cell_type": "markdown",
   "id": "a77bd990",
   "metadata": {},
   "source": [
    "### 2.3 Merge de metadatos"
   ]
  },
  {
   "cell_type": "markdown",
   "id": "e3515384",
   "metadata": {},
   "source": [
    "Por ahora, solo usaremos una flag para probar el prototipo:\n",
    "- `is_vegan` (bool): indica si la receta es vegana o no."
   ]
  },
  {
   "cell_type": "code",
   "execution_count": 23,
   "id": "7c29405a",
   "metadata": {},
   "outputs": [],
   "source": [
    "# Merge con metadatos de receta\n",
    "\n",
    "# Creamos en df_recipes la flag is_vegan:\n",
    "df_recipes['RecipeCategory'] = df_recipes['RecipeCategory'].fillna('').astype(str)\n",
    "df_recipes['is_vegan'] = df_recipes['RecipeCategory'].str.contains(\n",
    "    'Vegan', case=False, na=False\n",
    ").astype(int)\n",
    "\n",
    "# Hacemos merge de df_ratings_filt con df_recipes\n",
    "df_all = df_ratings_filt.merge(\n",
    "    df_recipes[['recipe_id', *nutri_cols,'is_vegan']],\n",
    "    on='recipe_id',\n",
    "    how='left'\n",
    ")\n",
    "\n",
    "# Comprobamos NA en nutritional cols (si hay, se rellenan con 0)\n",
    "df_all[nutri_cols] = df_all[nutri_cols].fillna(0.0)\n",
    "df_all['is_vegan'] = df_all['is_vegan'].fillna(0).astype(int)"
   ]
  },
  {
   "cell_type": "code",
   "execution_count": 24,
   "id": "17976065",
   "metadata": {},
   "outputs": [
    {
     "name": "stdout",
     "output_type": "stream",
     "text": [
      "<class 'pandas.core.frame.DataFrame'>\n",
      "RangeIndex: 783379 entries, 0 to 783378\n",
      "Data columns (total 15 columns):\n",
      " #   Column               Non-Null Count   Dtype              \n",
      "---  ------               --------------   -----              \n",
      " 0   user_id              783379 non-null  int64              \n",
      " 1   recipe_id            783379 non-null  int64              \n",
      " 2   rating               783379 non-null  float64            \n",
      " 3   DateSubmitted        783379 non-null  datetime64[us, UTC]\n",
      " 4   ReviewId             783379 non-null  int32              \n",
      " 5   Calories             783379 non-null  float64            \n",
      " 6   FatContent           783379 non-null  float64            \n",
      " 7   SaturatedFatContent  783379 non-null  float64            \n",
      " 8   CholesterolContent   783379 non-null  float64            \n",
      " 9   SodiumContent        783379 non-null  float64            \n",
      " 10  CarbohydrateContent  783379 non-null  float64            \n",
      " 11  FiberContent         783379 non-null  float64            \n",
      " 12  SugarContent         783379 non-null  float64            \n",
      " 13  ProteinContent       783379 non-null  float64            \n",
      " 14  is_vegan             783379 non-null  int64              \n",
      "dtypes: datetime64[us, UTC](1), float64(10), int32(1), int64(3)\n",
      "memory usage: 86.7 MB\n"
     ]
    }
   ],
   "source": [
    "df_all.info()"
   ]
  },
  {
   "cell_type": "markdown",
   "id": "859c1db8",
   "metadata": {},
   "source": [
    "## 3. Baselines"
   ]
  },
  {
   "cell_type": "markdown",
   "id": "916c20dd",
   "metadata": {},
   "source": [
    "### 3.1. Colaborative Based"
   ]
  },
  {
   "cell_type": "code",
   "execution_count": 25,
   "id": "ce263e13",
   "metadata": {},
   "outputs": [],
   "source": [
    "# ================================\n",
    "# Baseline\n",
    "# ================================\n"
   ]
  },
  {
   "cell_type": "markdown",
   "id": "05baf484",
   "metadata": {},
   "source": [
    "## 4. Modelo"
   ]
  },
  {
   "cell_type": "markdown",
   "id": "6b01d90c",
   "metadata": {},
   "source": [
    "Se probará un prototipo hibrido basado en LightFM"
   ]
  },
  {
   "cell_type": "code",
   "execution_count": 68,
   "id": "d76be164",
   "metadata": {},
   "outputs": [
    {
     "name": "stderr",
     "output_type": "stream",
     "text": [
      "Epoch: 100%|██████████| 10/10 [00:11<00:00,  1.12s/it]"
     ]
    },
    {
     "name": "stdout",
     "output_type": "stream",
     "text": [
      "Usuario de prueba: 311003\n",
      "Recomendaciones LightFM (IDs): [4284, 248608, 441092, 53903, 500434, 411314, 363521, 26191, 46879, 477981]\n",
      "Recetas recomendadas:\n"
     ]
    },
    {
     "name": "stderr",
     "output_type": "stream",
     "text": [
      "\n"
     ]
    },
    {
     "data": {
      "text/html": [
       "<div>\n",
       "<style scoped>\n",
       "    .dataframe tbody tr th:only-of-type {\n",
       "        vertical-align: middle;\n",
       "    }\n",
       "\n",
       "    .dataframe tbody tr th {\n",
       "        vertical-align: top;\n",
       "    }\n",
       "\n",
       "    .dataframe thead th {\n",
       "        text-align: right;\n",
       "    }\n",
       "</style>\n",
       "<table border=\"1\" class=\"dataframe\">\n",
       "  <thead>\n",
       "    <tr style=\"text-align: right;\">\n",
       "      <th></th>\n",
       "      <th>recipe_id</th>\n",
       "      <th>Name</th>\n",
       "      <th>Description</th>\n",
       "      <th>is_vegan</th>\n",
       "    </tr>\n",
       "  </thead>\n",
       "  <tbody>\n",
       "    <tr>\n",
       "      <th>2692</th>\n",
       "      <td>4284</td>\n",
       "      <td>Pumpkin Puree</td>\n",
       "      <td>Make and share this Pumpkin Puree recipe from ...</td>\n",
       "      <td>1</td>\n",
       "    </tr>\n",
       "    <tr>\n",
       "      <th>22721</th>\n",
       "      <td>26191</td>\n",
       "      <td>The Best All Purpose Cleaner</td>\n",
       "      <td>This is by far the best all purpose cleaner I'...</td>\n",
       "      <td>0</td>\n",
       "    </tr>\n",
       "    <tr>\n",
       "      <th>42961</th>\n",
       "      <td>46879</td>\n",
       "      <td>Dates Stuffed with Cream Cheese and Pecans</td>\n",
       "      <td>This is a recipe that my mother makes as a qui...</td>\n",
       "      <td>0</td>\n",
       "    </tr>\n",
       "    <tr>\n",
       "      <th>49830</th>\n",
       "      <td>53903</td>\n",
       "      <td>Breastmilk Butter</td>\n",
       "      <td>Make and share this Breastmilk Butter recipe f...</td>\n",
       "      <td>1</td>\n",
       "    </tr>\n",
       "    <tr>\n",
       "      <th>238793</th>\n",
       "      <td>248608</td>\n",
       "      <td>Sweet Potato Chews for Dogs</td>\n",
       "      <td>One of my coworkers made these for her Yorkie ...</td>\n",
       "      <td>1</td>\n",
       "    </tr>\n",
       "    <tr>\n",
       "      <th>350586</th>\n",
       "      <td>363521</td>\n",
       "      <td>Clorox Anywhere Spray Copycat</td>\n",
       "      <td>Make and share this Clorox Anywhere Spray Copy...</td>\n",
       "      <td>0</td>\n",
       "    </tr>\n",
       "    <tr>\n",
       "      <th>396795</th>\n",
       "      <td>411314</td>\n",
       "      <td>A Perfect Eye of Round Roast Beef</td>\n",
       "      <td>Without fail, my mother-in-law made an eye of ...</td>\n",
       "      <td>0</td>\n",
       "    </tr>\n",
       "    <tr>\n",
       "      <th>425339</th>\n",
       "      <td>441092</td>\n",
       "      <td>How to Season Cast Iron Pans</td>\n",
       "      <td>I use this to make my cast iron pans perfect a...</td>\n",
       "      <td>1</td>\n",
       "    </tr>\n",
       "    <tr>\n",
       "      <th>460979</th>\n",
       "      <td>477981</td>\n",
       "      <td>Fried Fresh Corn With Bacon Grease</td>\n",
       "      <td>Make and share this Fried Fresh Corn With Baco...</td>\n",
       "      <td>0</td>\n",
       "    </tr>\n",
       "    <tr>\n",
       "      <th>482634</th>\n",
       "      <td>500434</td>\n",
       "      <td>Tony Chachere's Creole Seasoning (Copycat)</td>\n",
       "      <td>Make and share this Tony Chachere's Creole Sea...</td>\n",
       "      <td>1</td>\n",
       "    </tr>\n",
       "  </tbody>\n",
       "</table>\n",
       "</div>"
      ],
      "text/plain": [
       "        recipe_id                                        Name  \\\n",
       "2692         4284                               Pumpkin Puree   \n",
       "22721       26191                The Best All Purpose Cleaner   \n",
       "42961       46879  Dates Stuffed with Cream Cheese and Pecans   \n",
       "49830       53903                           Breastmilk Butter   \n",
       "238793     248608                 Sweet Potato Chews for Dogs   \n",
       "350586     363521               Clorox Anywhere Spray Copycat   \n",
       "396795     411314           A Perfect Eye of Round Roast Beef   \n",
       "425339     441092                How to Season Cast Iron Pans   \n",
       "460979     477981          Fried Fresh Corn With Bacon Grease   \n",
       "482634     500434  Tony Chachere's Creole Seasoning (Copycat)   \n",
       "\n",
       "                                              Description  is_vegan  \n",
       "2692    Make and share this Pumpkin Puree recipe from ...         1  \n",
       "22721   This is by far the best all purpose cleaner I'...         0  \n",
       "42961   This is a recipe that my mother makes as a qui...         0  \n",
       "49830   Make and share this Breastmilk Butter recipe f...         1  \n",
       "238793  One of my coworkers made these for her Yorkie ...         1  \n",
       "350586  Make and share this Clorox Anywhere Spray Copy...         0  \n",
       "396795  Without fail, my mother-in-law made an eye of ...         0  \n",
       "425339  I use this to make my cast iron pans perfect a...         1  \n",
       "460979  Make and share this Fried Fresh Corn With Baco...         0  \n",
       "482634  Make and share this Tony Chachere's Creole Sea...         1  "
      ]
     },
     "metadata": {},
     "output_type": "display_data"
    }
   ],
   "source": [
    "# ========================================================\n",
    "# Híbrido con LightFM (colaborative + features nutricion)\n",
    "# ========================================================\n",
    "\n",
    "# Creamos un índice numérico para usuarios y para recetas (solo del df_all filtrado)\n",
    "user_cat   = df_all['user_id'].astype('category')\n",
    "item_cat   = df_all['recipe_id'].astype('category')\n",
    "user_map   = dict(enumerate(user_cat.cat.categories))\n",
    "item_map   = dict(enumerate(item_cat.cat.categories))\n",
    "inv_user_map = {v:k for k,v in user_map.items()}\n",
    "inv_item_map = {v:k for k,v in item_map.items()}\n",
    "\n",
    "n_users = len(user_map)\n",
    "n_items = len(item_map)\n",
    "\n",
    "# Construimos la matriz de interacción (sparse COO)\n",
    "rows = df_all['user_id'].map(inv_user_map).values\n",
    "cols = df_all['recipe_id'].map(inv_item_map).values\n",
    "data = df_all['rating'].values\n",
    "interaction_matrix = coo_matrix((data, (rows, cols)), shape=(n_users, n_items))\n",
    "\n",
    "# Preparamos features de ítem:\n",
    "ordered_recipe_ids = item_cat.cat.categories\n",
    "recipes_indexed = df_recipes.set_index('recipe_id')\n",
    "feature_columns = ['is_vegan', 'Calories']\n",
    "\n",
    "# Creamos un DataFrame con las características de los ítems\n",
    "item_features_df = recipes_indexed.reindex(ordered_recipe_ids)[feature_columns]\n",
    "item_features_df = item_features_df.fillna(0.0)\n",
    "\n",
    "# Convertimos a sparse matrix\n",
    "item_features_mat = coo_matrix(item_features_df.values)\n",
    "\n",
    "# Entrenamos un LightFM con WARP (buen para ranking implícito)\n",
    "model_lfm = LightFM(loss='warp')\n",
    "model_lfm.fit(interaction_matrix, \n",
    "              item_features=item_features_mat, \n",
    "              epochs=10, \n",
    "              num_threads=8,\n",
    "              verbose=True)\n",
    "\n",
    "# Creamos función para recomendar top-K con LightFM\n",
    "def recommend_lightfm(model: LightFM, user_id, k=10):\n",
    "    \"\"\"\n",
    "    Dado un user_id (entero original), devolvemos top-k recipe_ids.\n",
    "    \"\"\"\n",
    "    uidx = inv_user_map[user_id]\n",
    "    scores = model.predict(user_ids=[uidx for _ in range(n_items)],\n",
    "                           item_ids=np.arange(n_items),\n",
    "                           item_features=item_features_mat,\n",
    "                           num_threads=8)\n",
    "    top_items = np.argsort(-scores)[:k]\n",
    "    return [item_map[idx] for idx in top_items]\n",
    "\n",
    "# Ejemplo: recomendaciones para un usuario de prueba\n",
    "test_user_id = df_all['user_id'].sample(1).iloc[0]\n",
    "print(\"Usuario de prueba:\", test_user_id)\n",
    "recomendations = recommend_lightfm(model_lfm, test_user_id, k=10)\n",
    "print(\"Recomendaciones LightFM (IDs):\", recomendations)\n",
    "# Mostrar las recetas recomendadas\n",
    "recommended_recipes = df_recipes[df_recipes['recipe_id'].isin(recomendations)]\n",
    "print(\"Recetas recomendadas:\")\n",
    "display(recommended_recipes[['recipe_id', 'Name', 'Description', 'is_vegan']])"
   ]
  },
  {
   "cell_type": "markdown",
   "id": "e9b0ebbe",
   "metadata": {},
   "source": [
    "## 5. Evaluación"
   ]
  },
  {
   "cell_type": "code",
   "execution_count": 70,
   "id": "6c1f3e41",
   "metadata": {},
   "outputs": [
    {
     "name": "stderr",
     "output_type": "stream",
     "text": [
      "Epoch: 100%|██████████| 10/10 [00:10<00:00,  1.01s/it]\n"
     ]
    },
    {
     "data": {
      "application/vnd.jupyter.widget-view+json": {
       "model_id": "67ed03b193504b27a05ccae956744d1e",
       "version_major": 2,
       "version_minor": 0
      },
      "text/plain": [
       "Calculando Precision/Recall:   0%|          | 0/27626 [00:00<?, ?it/s]"
      ]
     },
     "metadata": {},
     "output_type": "display_data"
    },
    {
     "name": "stdout",
     "output_type": "stream",
     "text": [
      "LightFM (WARP) → Precision@10: 0.0000  /  Recall@10: 0.0003\n"
     ]
    }
   ],
   "source": [
    "# Definimos un split “leave-one-out” manual: \n",
    "# Tomamos aleatoriamente un rating por usuario para test, y el resto para train.\n",
    "test_interactions = []\n",
    "train_interactions = []\n",
    "\n",
    "np.random.seed(1)  # Para reproducibilidad\n",
    "for u in df_all['user_id'].unique():\n",
    "    df_u = df_all[df_all['user_id']==u]\n",
    "    test_idx = np.random.choice(df_u.index, size=1, replace=False)\n",
    "    for idx in df_u.index:\n",
    "        if idx == test_idx:\n",
    "            test_interactions.append((df_u.at[idx, 'user_id'], df_u.at[idx, 'recipe_id']))\n",
    "        else:\n",
    "            train_interactions.append((df_u.at[idx, 'user_id'], df_u.at[idx, 'recipe_id']))\n",
    "\n",
    "# Creamos matrices de train/test en formato sparse\n",
    "# para LightFM solo necesitamos la matriz binaria (interactions >0), \n",
    "# aunque podríamos normalizar ratings a 1/0.\n",
    "def build_interaction_matrix(interactions, user_map, item_map, shape):\n",
    "    rows, cols, vals = [], [], []\n",
    "    for (u,i) in interactions:\n",
    "        if u in inv_user_map and i in inv_item_map:\n",
    "            rows.append(inv_user_map[u])\n",
    "            cols.append(inv_item_map[i])\n",
    "            vals.append(1.0)  # binario\n",
    "    return coo_matrix((vals, (rows, cols)), shape=shape)\n",
    "\n",
    "train_mat = build_interaction_matrix(train_interactions, user_map, item_map, (n_users, n_items))\n",
    "test_mat  = build_interaction_matrix(test_interactions,  user_map, item_map, (n_users, n_items))\n",
    "\n",
    "# Entrenamos LightFM en train_mat (dejamos fuera test_mat)\n",
    "model_lfm_loo = LightFM(loss='warp')\n",
    "model_lfm_loo.fit(train_mat, item_features=item_features_mat, epochs=10, num_threads=8, verbose=True)\n",
    "\n",
    "# Funciones de Precision@K / Recall@K para LightFM\n",
    "def precision_recall_at_k_lightfm(model: LightFM, train_mat, test_mat, k=10):\n",
    "    n_users, n_items = train_mat.shape\n",
    "    precisions = []\n",
    "    recalls    = []\n",
    "    \n",
    "    for uidx in tqdm(range(n_users), desc=\"Calculando Precision/Recall\"):\n",
    "        # Items reales en test para este usuario\n",
    "        true_items = set(test_mat.getrow(uidx).nonzero()[1])\n",
    "        if len(true_items)==0:\n",
    "            continue\n",
    "        \n",
    "        # Items que el usuario ya vio en train (para excluirlos)\n",
    "        train_items = set(train_mat.getrow(uidx).nonzero()[1])\n",
    "        \n",
    "        # Score para todos los ítems\n",
    "        scores = model.predict(user_ids=[uidx for _ in range(n_items)], \n",
    "                               item_ids=np.arange(n_items), \n",
    "                               item_features=item_features_mat,\n",
    "                               num_threads=8)\n",
    "        # Excluir ítems de train\n",
    "        scores_filtered = [(i, s) for i, s in enumerate(scores) if i not in train_items]\n",
    "        scores_filtered.sort(key=lambda x: x[1], reverse=True)\n",
    "        \n",
    "        # Tomamos top-k\n",
    "        top_k = [i for (i,_) in scores_filtered[:k]]\n",
    "        hits = len(set(top_k) & true_items)\n",
    "        \n",
    "        precisions.append(hits / k)\n",
    "        recalls.append(hits / len(true_items))\n",
    "    \n",
    "    return np.mean(precisions), np.mean(recalls)\n",
    "\n",
    "prec_lfm, rec_lfm = precision_recall_at_k_lightfm(model_lfm_loo, train_mat, test_mat, k=10)\n",
    "print(f\"LightFM (WARP) → Precision@10: {prec_lfm:.4f}  /  Recall@10: {rec_lfm:.4f}\")"
   ]
  }
 ],
 "metadata": {
  "kernelspec": {
   "display_name": "Python 3",
   "language": "python",
   "name": "python3"
  },
  "language_info": {
   "codemirror_mode": {
    "name": "ipython",
    "version": 3
   },
   "file_extension": ".py",
   "mimetype": "text/x-python",
   "name": "python",
   "nbconvert_exporter": "python",
   "pygments_lexer": "ipython3",
   "version": "3.10.17"
  }
 },
 "nbformat": 4,
 "nbformat_minor": 5
}
