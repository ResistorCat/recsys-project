{
  "metadata": {
    "kernelspec": {
      "language": "python",
      "display_name": "Python 3",
      "name": "python3"
    },
    "language_info": {
      "name": "python",
      "version": "3.10.13",
      "mimetype": "text/x-python",
      "codemirror_mode": {
        "name": "ipython",
        "version": 3
      },
      "pygments_lexer": "ipython3",
      "nbconvert_exporter": "python",
      "file_extension": ".py"
    },
    "kaggle": {
      "accelerator": "none",
      "dataSources": [
        {
          "sourceId": 1789966,
          "sourceType": "datasetVersion",
          "datasetId": 1063627
        }
      ],
      "dockerImageVersionId": 30684,
      "isInternetEnabled": true,
      "language": "python",
      "sourceType": "notebook",
      "isGpuEnabled": false
    },
    "colab": {
      "provenance": []
    }
  },
  "nbformat_minor": 0,
  "nbformat": 4,
  "cells": [
    {
      "source": [
        "import kagglehub\n",
        "irkaal_foodcom_recipes_and_reviews_path = kagglehub.dataset_download('irkaal/foodcom-recipes-and-reviews')\n",
        "print('Data source import complete.')"
      ],
      "metadata": {
        "id": "7xqmzMtUHjFS",
        "outputId": "0e03dde3-301e-4122-bcf1-3b552df9a2e9",
        "colab": {
          "base_uri": "https://localhost:8080/"
        }
      },
      "cell_type": "code",
      "outputs": [
        {
          "output_type": "stream",
          "name": "stdout",
          "text": [
            "Data source import complete.\n"
          ]
        }
      ],
      "execution_count": 8
    },
    {
      "cell_type": "code",
      "source": [
        "!pip install pyreclab"
      ],
      "metadata": {
        "colab": {
          "base_uri": "https://localhost:8080/"
        },
        "id": "XqxR-i1QsRXq",
        "outputId": "12dbe530-ffca-4207-9ec2-3eaad70cdb36"
      },
      "execution_count": 27,
      "outputs": [
        {
          "output_type": "stream",
          "name": "stdout",
          "text": [
            "Collecting pyreclab\n",
            "  Downloading pyreclab-0.1.16-cp311-cp311-manylinux_2_34_x86_64.whl.metadata (393 bytes)\n",
            "Downloading pyreclab-0.1.16-cp311-cp311-manylinux_2_34_x86_64.whl (225 kB)\n",
            "\u001b[2K   \u001b[90m━━━━━━━━━━━━━━━━━━━━━━━━━━━━━━━━━━━━━━━━\u001b[0m \u001b[32m225.2/225.2 kB\u001b[0m \u001b[31m3.6 MB/s\u001b[0m eta \u001b[36m0:00:00\u001b[0m\n",
            "\u001b[?25hInstalling collected packages: pyreclab\n",
            "Successfully installed pyreclab-0.1.16\n"
          ]
        }
      ]
    },
    {
      "cell_type": "code",
      "source": [
        "import pandas as pd\n",
        "import numpy as np\n",
        "import matplotlib.pyplot as plt\n",
        "import seaborn as sns\n",
        "from sklearn.preprocessing import StandardScaler\n",
        "from sklearn.metrics import mean_squared_error\n",
        "from math import sqrt\n",
        "from sklearn.model_selection import train_test_split\n",
        "import pyreclab"
      ],
      "metadata": {
        "execution": {
          "iopub.status.busy": "2024-04-16T03:22:07.680595Z",
          "iopub.execute_input": "2024-04-16T03:22:07.680877Z",
          "iopub.status.idle": "2024-04-16T03:22:08.672673Z",
          "shell.execute_reply.started": "2024-04-16T03:22:07.680852Z",
          "shell.execute_reply": "2024-04-16T03:22:08.671668Z"
        },
        "trusted": true,
        "id": "6Cq8F4GwHjFX"
      },
      "execution_count": 1,
      "outputs": []
    },
    {
      "cell_type": "code",
      "source": [
        "recipes=pd.read_csv('/kaggle/input/foodcom-recipes-and-reviews/recipes.csv')"
      ],
      "metadata": {
        "execution": {
          "iopub.status.busy": "2024-04-16T03:22:08.6745Z",
          "iopub.execute_input": "2024-04-16T03:22:08.674868Z",
          "iopub.status.idle": "2024-04-16T03:22:28.578768Z",
          "shell.execute_reply.started": "2024-04-16T03:22:08.674844Z",
          "shell.execute_reply": "2024-04-16T03:22:28.577864Z"
        },
        "trusted": true,
        "id": "u5H-MiiVHjFX"
      },
      "execution_count": 2,
      "outputs": []
    },
    {
      "cell_type": "code",
      "source": [
        "recipes.drop([\"RecipeServings\", \"RecipeYield\", \"AggregatedRating\", \"ReviewCount\"], inplace=True, axis=1)\n",
        "recipes.fillna(\"-\", inplace=True)"
      ],
      "metadata": {
        "execution": {
          "iopub.status.busy": "2024-04-16T03:22:34.323432Z",
          "iopub.execute_input": "2024-04-16T03:22:34.324044Z",
          "iopub.status.idle": "2024-04-16T03:22:34.438364Z",
          "shell.execute_reply.started": "2024-04-16T03:22:34.324019Z",
          "shell.execute_reply": "2024-04-16T03:22:34.437373Z"
        },
        "trusted": true,
        "id": "TfikZYPcHjFc"
      },
      "execution_count": 3,
      "outputs": []
    },
    {
      "cell_type": "code",
      "source": [
        "recipes_util = recipes.copy()\n",
        "columns = ['RecipeId', 'Name', 'RecipeCategory','RecipeIngredientParts','Calories','FatContent','SaturatedFatContent','CholesterolContent','SodiumContent','CarbohydrateContent','FiberContent','SugarContent','ProteinContent']\n",
        "recipes_util = recipes_util[columns]"
      ],
      "metadata": {
        "execution": {
          "iopub.status.busy": "2024-04-16T03:22:45.837583Z",
          "iopub.execute_input": "2024-04-16T03:22:45.838709Z",
          "iopub.status.idle": "2024-04-16T03:22:46.086399Z",
          "shell.execute_reply.started": "2024-04-16T03:22:45.83868Z",
          "shell.execute_reply": "2024-04-16T03:22:46.08551Z"
        },
        "trusted": true,
        "id": "ijRpNTKTHjFe"
      },
      "execution_count": 4,
      "outputs": []
    },
    {
      "cell_type": "code",
      "source": [
        "#Valores nutricionales \"sanos\" y restricciones alimentarias, pueden ser adaptables según el usuario\n",
        "#https://www-verywellfit-com.translate.goog/what-does-based-on-a-2000-calorie-diet-mean-4099137?_x_tr_sl=en&_x_tr_tl=es&_x_tr_hl=es&_x_tr_pto=sge#:~:text=Based%20on%20the%20DV%20information,or%201200%20calories%20from%20carbohydrates\n",
        "\n",
        "Daily_values = {\"Calories\": 2000,\n",
        "                \"FatContent\": 78,\n",
        "                \"SaturatedFatContent\": 20,\n",
        "                \"CholesterolContent\": 300,\n",
        "                \"SodiumContent\": 2300,\n",
        "                \"CarbohydrateContent\": 275,\n",
        "                \"FiberContent\": 28,\n",
        "                \"SugarContent\": 40,\n",
        "                \"ProteinContent\": 50}\n",
        "\n",
        "Meal_values = Daily_values.copy()\n",
        "for value in Meal_values:\n",
        "    Meal_values[value] = Meal_values[value]/3 #Son 3 comidas al día\n",
        "\n",
        "Restrictions = [\"cream\", \"milk\", \"yogurt\", \"cheese\"] #Intolerancia a la lactosa"
      ],
      "metadata": {
        "execution": {
          "iopub.status.busy": "2024-04-16T03:22:46.088378Z",
          "iopub.execute_input": "2024-04-16T03:22:46.088923Z",
          "iopub.status.idle": "2024-04-16T03:22:46.093257Z",
          "shell.execute_reply.started": "2024-04-16T03:22:46.088895Z",
          "shell.execute_reply": "2024-04-16T03:22:46.092621Z"
        },
        "trusted": true,
        "id": "qT70f5eKHjFe"
      },
      "execution_count": 5,
      "outputs": []
    },
    {
      "cell_type": "code",
      "source": [
        "for key, value in Meal_values.items():\n",
        "    recipes_util = recipes_util[recipes_util[key] <= value]\n",
        "\n",
        "for restriction in Restrictions:\n",
        "    recipes_util = recipes_util[~recipes_util['RecipeIngredientParts'].str.contains(restriction, case=False, regex=False)]"
      ],
      "metadata": {
        "execution": {
          "iopub.status.busy": "2024-04-16T03:22:46.09423Z",
          "iopub.execute_input": "2024-04-16T03:22:46.095001Z",
          "iopub.status.idle": "2024-04-16T03:22:46.83878Z",
          "shell.execute_reply.started": "2024-04-16T03:22:46.094977Z",
          "shell.execute_reply": "2024-04-16T03:22:46.837706Z"
        },
        "trusted": true,
        "id": "6Y5wiEIwHjFe"
      },
      "execution_count": 6,
      "outputs": []
    },
    {
      "cell_type": "markdown",
      "source": [
        "**Most Popular**"
      ],
      "metadata": {
        "id": "Urgd5MlC3tJY"
      }
    },
    {
      "cell_type": "code",
      "source": [
        "reviews = pd.read_csv('/kaggle/input/foodcom-recipes-and-reviews/reviews.csv')"
      ],
      "metadata": {
        "id": "m0FYFN9PnPff"
      },
      "execution_count": 7,
      "outputs": []
    },
    {
      "cell_type": "code",
      "source": [
        "reviews_util = reviews[[\"ReviewId\", \"RecipeId\", \"Rating\"]]\n",
        "reviews_util = reviews_util[reviews_util['RecipeId'].isin(recipes_util['RecipeId'])]"
      ],
      "metadata": {
        "id": "bbEuCDrDnS8f"
      },
      "execution_count": 8,
      "outputs": []
    },
    {
      "cell_type": "code",
      "source": [
        "train, val = train_test_split(reviews_util, test_size=0.2, random_state=17)\n",
        "\n",
        "train.to_csv(\"train.csv\", index=False, header=False)\n",
        "val.to_csv(\"val.csv\", index=False, header=False)"
      ],
      "metadata": {
        "id": "4yqa4VTnscpe"
      },
      "execution_count": 9,
      "outputs": []
    },
    {
      "cell_type": "code",
      "source": [
        "mp = pyreclab.MostPopular(dataset=\"train.csv\", dlmchar=b',', usercol=0, itemcol=1, ratingcol=2)\n",
        "mp.train(progress=True)"
      ],
      "metadata": {
        "id": "qCKb7hmQr9RO"
      },
      "execution_count": 10,
      "outputs": []
    },
    {
      "cell_type": "code",
      "source": [
        "recommendationList, map, ndcg = mp.testrec(input_file = \"val.csv\",\n",
        "                                                 dlmchar = b',',\n",
        "                                                 header = False,\n",
        "                                                 usercol = 0,\n",
        "                                                 itemcol = 1,\n",
        "                                                 ratingcol = 2,\n",
        "                                                 topn = 10,\n",
        "                                                 output_file = 'ranking.json',\n",
        "                                                 relevance_threshold = 2,\n",
        "                                                 includeRated = False )"
      ],
      "metadata": {
        "id": "mB4BP8TXx1ud"
      },
      "execution_count": null,
      "outputs": []
    },
    {
      "cell_type": "code",
      "source": [
        "recipe_id = 50\n",
        "ranking = [int(r) for r in mp.recommend(str(recipe_id), 10, includeRated=False)]"
      ],
      "metadata": {
        "id": "rt6Qebfz2uBd"
      },
      "execution_count": 19,
      "outputs": []
    },
    {
      "cell_type": "code",
      "source": [
        "valid_ranking = [r for r in ranking if r in recipes_util['RecipeId']]\n",
        "recipes_util.iloc[valid_ranking]"
      ],
      "metadata": {
        "colab": {
          "base_uri": "https://localhost:8080/",
          "height": 170
        },
        "id": "56v0VKKu2133",
        "outputId": "fa5d9cc3-3087-4a5c-d7d6-757731715939"
      },
      "execution_count": 22,
      "outputs": [
        {
          "output_type": "execute_result",
          "data": {
            "text/plain": [
              "        RecipeId                               Name RecipeCategory  \\\n",
              "206336    215257  Athen's Marinated Black-Eyed Peas      Vegetable   \n",
              "\n",
              "                                    RecipeIngredientParts  Calories  \\\n",
              "206336  c(\"black-eyed peas\", \"onion\", \"green bell pepp...     377.6   \n",
              "\n",
              "        FatContent  SaturatedFatContent  CholesterolContent  SodiumContent  \\\n",
              "206336        22.8                  3.1                 0.0          743.4   \n",
              "\n",
              "        CarbohydrateContent  FiberContent  SugarContent  ProteinContent  \n",
              "206336                 35.8           6.1          11.1             8.4  "
            ],
            "text/html": [
              "\n",
              "  <div id=\"df-acf5edea-7126-4934-80fe-591c3bce178a\" class=\"colab-df-container\">\n",
              "    <div>\n",
              "<style scoped>\n",
              "    .dataframe tbody tr th:only-of-type {\n",
              "        vertical-align: middle;\n",
              "    }\n",
              "\n",
              "    .dataframe tbody tr th {\n",
              "        vertical-align: top;\n",
              "    }\n",
              "\n",
              "    .dataframe thead th {\n",
              "        text-align: right;\n",
              "    }\n",
              "</style>\n",
              "<table border=\"1\" class=\"dataframe\">\n",
              "  <thead>\n",
              "    <tr style=\"text-align: right;\">\n",
              "      <th></th>\n",
              "      <th>RecipeId</th>\n",
              "      <th>Name</th>\n",
              "      <th>RecipeCategory</th>\n",
              "      <th>RecipeIngredientParts</th>\n",
              "      <th>Calories</th>\n",
              "      <th>FatContent</th>\n",
              "      <th>SaturatedFatContent</th>\n",
              "      <th>CholesterolContent</th>\n",
              "      <th>SodiumContent</th>\n",
              "      <th>CarbohydrateContent</th>\n",
              "      <th>FiberContent</th>\n",
              "      <th>SugarContent</th>\n",
              "      <th>ProteinContent</th>\n",
              "    </tr>\n",
              "  </thead>\n",
              "  <tbody>\n",
              "    <tr>\n",
              "      <th>206336</th>\n",
              "      <td>215257</td>\n",
              "      <td>Athen's Marinated Black-Eyed Peas</td>\n",
              "      <td>Vegetable</td>\n",
              "      <td>c(\"black-eyed peas\", \"onion\", \"green bell pepp...</td>\n",
              "      <td>377.6</td>\n",
              "      <td>22.8</td>\n",
              "      <td>3.1</td>\n",
              "      <td>0.0</td>\n",
              "      <td>743.4</td>\n",
              "      <td>35.8</td>\n",
              "      <td>6.1</td>\n",
              "      <td>11.1</td>\n",
              "      <td>8.4</td>\n",
              "    </tr>\n",
              "  </tbody>\n",
              "</table>\n",
              "</div>\n",
              "    <div class=\"colab-df-buttons\">\n",
              "\n",
              "  <div class=\"colab-df-container\">\n",
              "    <button class=\"colab-df-convert\" onclick=\"convertToInteractive('df-acf5edea-7126-4934-80fe-591c3bce178a')\"\n",
              "            title=\"Convert this dataframe to an interactive table.\"\n",
              "            style=\"display:none;\">\n",
              "\n",
              "  <svg xmlns=\"http://www.w3.org/2000/svg\" height=\"24px\" viewBox=\"0 -960 960 960\">\n",
              "    <path d=\"M120-120v-720h720v720H120Zm60-500h600v-160H180v160Zm220 220h160v-160H400v160Zm0 220h160v-160H400v160ZM180-400h160v-160H180v160Zm440 0h160v-160H620v160ZM180-180h160v-160H180v160Zm440 0h160v-160H620v160Z\"/>\n",
              "  </svg>\n",
              "    </button>\n",
              "\n",
              "  <style>\n",
              "    .colab-df-container {\n",
              "      display:flex;\n",
              "      gap: 12px;\n",
              "    }\n",
              "\n",
              "    .colab-df-convert {\n",
              "      background-color: #E8F0FE;\n",
              "      border: none;\n",
              "      border-radius: 50%;\n",
              "      cursor: pointer;\n",
              "      display: none;\n",
              "      fill: #1967D2;\n",
              "      height: 32px;\n",
              "      padding: 0 0 0 0;\n",
              "      width: 32px;\n",
              "    }\n",
              "\n",
              "    .colab-df-convert:hover {\n",
              "      background-color: #E2EBFA;\n",
              "      box-shadow: 0px 1px 2px rgba(60, 64, 67, 0.3), 0px 1px 3px 1px rgba(60, 64, 67, 0.15);\n",
              "      fill: #174EA6;\n",
              "    }\n",
              "\n",
              "    .colab-df-buttons div {\n",
              "      margin-bottom: 4px;\n",
              "    }\n",
              "\n",
              "    [theme=dark] .colab-df-convert {\n",
              "      background-color: #3B4455;\n",
              "      fill: #D2E3FC;\n",
              "    }\n",
              "\n",
              "    [theme=dark] .colab-df-convert:hover {\n",
              "      background-color: #434B5C;\n",
              "      box-shadow: 0px 1px 3px 1px rgba(0, 0, 0, 0.15);\n",
              "      filter: drop-shadow(0px 1px 2px rgba(0, 0, 0, 0.3));\n",
              "      fill: #FFFFFF;\n",
              "    }\n",
              "  </style>\n",
              "\n",
              "    <script>\n",
              "      const buttonEl =\n",
              "        document.querySelector('#df-acf5edea-7126-4934-80fe-591c3bce178a button.colab-df-convert');\n",
              "      buttonEl.style.display =\n",
              "        google.colab.kernel.accessAllowed ? 'block' : 'none';\n",
              "\n",
              "      async function convertToInteractive(key) {\n",
              "        const element = document.querySelector('#df-acf5edea-7126-4934-80fe-591c3bce178a');\n",
              "        const dataTable =\n",
              "          await google.colab.kernel.invokeFunction('convertToInteractive',\n",
              "                                                    [key], {});\n",
              "        if (!dataTable) return;\n",
              "\n",
              "        const docLinkHtml = 'Like what you see? Visit the ' +\n",
              "          '<a target=\"_blank\" href=https://colab.research.google.com/notebooks/data_table.ipynb>data table notebook</a>'\n",
              "          + ' to learn more about interactive tables.';\n",
              "        element.innerHTML = '';\n",
              "        dataTable['output_type'] = 'display_data';\n",
              "        await google.colab.output.renderOutput(dataTable, element);\n",
              "        const docLink = document.createElement('div');\n",
              "        docLink.innerHTML = docLinkHtml;\n",
              "        element.appendChild(docLink);\n",
              "      }\n",
              "    </script>\n",
              "  </div>\n",
              "\n",
              "\n",
              "    </div>\n",
              "  </div>\n"
            ],
            "application/vnd.google.colaboratory.intrinsic+json": {
              "type": "dataframe",
              "summary": "{\n  \"name\": \"recipes_util\",\n  \"rows\": 1,\n  \"fields\": [\n    {\n      \"column\": \"RecipeId\",\n      \"properties\": {\n        \"dtype\": \"number\",\n        \"std\": null,\n        \"min\": 215257,\n        \"max\": 215257,\n        \"num_unique_values\": 1,\n        \"samples\": [\n          215257\n        ],\n        \"semantic_type\": \"\",\n        \"description\": \"\"\n      }\n    },\n    {\n      \"column\": \"Name\",\n      \"properties\": {\n        \"dtype\": \"string\",\n        \"num_unique_values\": 1,\n        \"samples\": [\n          \"Athen's Marinated Black-Eyed Peas\"\n        ],\n        \"semantic_type\": \"\",\n        \"description\": \"\"\n      }\n    },\n    {\n      \"column\": \"RecipeCategory\",\n      \"properties\": {\n        \"dtype\": \"string\",\n        \"num_unique_values\": 1,\n        \"samples\": [\n          \"Vegetable\"\n        ],\n        \"semantic_type\": \"\",\n        \"description\": \"\"\n      }\n    },\n    {\n      \"column\": \"RecipeIngredientParts\",\n      \"properties\": {\n        \"dtype\": \"string\",\n        \"num_unique_values\": 1,\n        \"samples\": [\n          \"c(\\\"black-eyed peas\\\", \\\"onion\\\", \\\"green bell pepper\\\", \\\"garlic clove\\\", \\\"cider vinegar\\\", \\\"sugar\\\", \\\"salt\\\")\"\n        ],\n        \"semantic_type\": \"\",\n        \"description\": \"\"\n      }\n    },\n    {\n      \"column\": \"Calories\",\n      \"properties\": {\n        \"dtype\": \"number\",\n        \"std\": null,\n        \"min\": 377.6,\n        \"max\": 377.6,\n        \"num_unique_values\": 1,\n        \"samples\": [\n          377.6\n        ],\n        \"semantic_type\": \"\",\n        \"description\": \"\"\n      }\n    },\n    {\n      \"column\": \"FatContent\",\n      \"properties\": {\n        \"dtype\": \"number\",\n        \"std\": null,\n        \"min\": 22.8,\n        \"max\": 22.8,\n        \"num_unique_values\": 1,\n        \"samples\": [\n          22.8\n        ],\n        \"semantic_type\": \"\",\n        \"description\": \"\"\n      }\n    },\n    {\n      \"column\": \"SaturatedFatContent\",\n      \"properties\": {\n        \"dtype\": \"number\",\n        \"std\": null,\n        \"min\": 3.1,\n        \"max\": 3.1,\n        \"num_unique_values\": 1,\n        \"samples\": [\n          3.1\n        ],\n        \"semantic_type\": \"\",\n        \"description\": \"\"\n      }\n    },\n    {\n      \"column\": \"CholesterolContent\",\n      \"properties\": {\n        \"dtype\": \"number\",\n        \"std\": null,\n        \"min\": 0.0,\n        \"max\": 0.0,\n        \"num_unique_values\": 1,\n        \"samples\": [\n          0.0\n        ],\n        \"semantic_type\": \"\",\n        \"description\": \"\"\n      }\n    },\n    {\n      \"column\": \"SodiumContent\",\n      \"properties\": {\n        \"dtype\": \"number\",\n        \"std\": null,\n        \"min\": 743.4,\n        \"max\": 743.4,\n        \"num_unique_values\": 1,\n        \"samples\": [\n          743.4\n        ],\n        \"semantic_type\": \"\",\n        \"description\": \"\"\n      }\n    },\n    {\n      \"column\": \"CarbohydrateContent\",\n      \"properties\": {\n        \"dtype\": \"number\",\n        \"std\": null,\n        \"min\": 35.8,\n        \"max\": 35.8,\n        \"num_unique_values\": 1,\n        \"samples\": [\n          35.8\n        ],\n        \"semantic_type\": \"\",\n        \"description\": \"\"\n      }\n    },\n    {\n      \"column\": \"FiberContent\",\n      \"properties\": {\n        \"dtype\": \"number\",\n        \"std\": null,\n        \"min\": 6.1,\n        \"max\": 6.1,\n        \"num_unique_values\": 1,\n        \"samples\": [\n          6.1\n        ],\n        \"semantic_type\": \"\",\n        \"description\": \"\"\n      }\n    },\n    {\n      \"column\": \"SugarContent\",\n      \"properties\": {\n        \"dtype\": \"number\",\n        \"std\": null,\n        \"min\": 11.1,\n        \"max\": 11.1,\n        \"num_unique_values\": 1,\n        \"samples\": [\n          11.1\n        ],\n        \"semantic_type\": \"\",\n        \"description\": \"\"\n      }\n    },\n    {\n      \"column\": \"ProteinContent\",\n      \"properties\": {\n        \"dtype\": \"number\",\n        \"std\": null,\n        \"min\": 8.4,\n        \"max\": 8.4,\n        \"num_unique_values\": 1,\n        \"samples\": [\n          8.4\n        ],\n        \"semantic_type\": \"\",\n        \"description\": \"\"\n      }\n    }\n  ]\n}"
            }
          },
          "metadata": {},
          "execution_count": 22
        }
      ]
    },
    {
      "cell_type": "code",
      "source": [],
      "metadata": {
        "id": "BdN574c123LA"
      },
      "execution_count": null,
      "outputs": []
    }
  ]
}