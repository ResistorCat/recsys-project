{
 "cells": [
  {
   "cell_type": "markdown",
   "id": "4e36f03a",
   "metadata": {},
   "source": [
    "# Análisis de datos"
   ]
  },
  {
   "cell_type": "markdown",
   "id": "443a3458",
   "metadata": {},
   "source": [
    "> *Versión preliminar*\n",
    "\n",
    "Integrantes: \n",
    "  - Francisco Arenas\n",
    "  - Sofía Rebolledo\n",
    "  - Alvaro Romero"
   ]
  },
  {
   "cell_type": "markdown",
   "id": "20d97024",
   "metadata": {},
   "source": [
    "## Instalación de librerías e importación de datos"
   ]
  },
  {
   "cell_type": "code",
   "execution_count": 13,
   "id": "df26dadf",
   "metadata": {},
   "outputs": [
    {
     "name": "stdout",
     "output_type": "stream",
     "text": [
      "Defaulting to user installation because normal site-packages is not writeable\n",
      "Requirement already satisfied: pip in /home/vscode/.local/lib/python3.10/site-packages (25.1.1)\n",
      "Note: you may need to restart the kernel to use updated packages.\n",
      "Defaulting to user installation because normal site-packages is not writeable\n",
      "Collecting numpy\n",
      "  Downloading numpy-2.2.5-cp310-cp310-manylinux_2_17_x86_64.manylinux2014_x86_64.whl.metadata (62 kB)\n",
      "Collecting pandas\n",
      "  Downloading pandas-2.2.3-cp310-cp310-manylinux_2_17_x86_64.manylinux2014_x86_64.whl.metadata (89 kB)\n",
      "Collecting matplotlib\n",
      "  Downloading matplotlib-3.10.3-cp310-cp310-manylinux_2_17_x86_64.manylinux2014_x86_64.whl.metadata (11 kB)\n",
      "Requirement already satisfied: python-dateutil>=2.8.2 in /home/vscode/.local/lib/python3.10/site-packages (from pandas) (2.9.0.post0)\n",
      "Collecting pytz>=2020.1 (from pandas)\n",
      "  Downloading pytz-2025.2-py2.py3-none-any.whl.metadata (22 kB)\n",
      "Collecting tzdata>=2022.7 (from pandas)\n",
      "  Downloading tzdata-2025.2-py2.py3-none-any.whl.metadata (1.4 kB)\n",
      "Collecting contourpy>=1.0.1 (from matplotlib)\n",
      "  Downloading contourpy-1.3.2-cp310-cp310-manylinux_2_17_x86_64.manylinux2014_x86_64.whl.metadata (5.5 kB)\n",
      "Collecting cycler>=0.10 (from matplotlib)\n",
      "  Downloading cycler-0.12.1-py3-none-any.whl.metadata (3.8 kB)\n",
      "Collecting fonttools>=4.22.0 (from matplotlib)\n",
      "  Downloading fonttools-4.57.0-cp310-cp310-manylinux_2_17_x86_64.manylinux2014_x86_64.whl.metadata (102 kB)\n",
      "Collecting kiwisolver>=1.3.1 (from matplotlib)\n",
      "  Downloading kiwisolver-1.4.8-cp310-cp310-manylinux_2_12_x86_64.manylinux2010_x86_64.whl.metadata (6.2 kB)\n",
      "Requirement already satisfied: packaging>=20.0 in /home/vscode/.local/lib/python3.10/site-packages (from matplotlib) (25.0)\n",
      "Collecting pillow>=8 (from matplotlib)\n",
      "  Downloading pillow-11.2.1-cp310-cp310-manylinux_2_28_x86_64.whl.metadata (8.9 kB)\n",
      "Collecting pyparsing>=2.3.1 (from matplotlib)\n",
      "  Downloading pyparsing-3.2.3-py3-none-any.whl.metadata (5.0 kB)\n",
      "Requirement already satisfied: six>=1.5 in /home/vscode/.local/lib/python3.10/site-packages (from python-dateutil>=2.8.2->pandas) (1.17.0)\n",
      "Downloading numpy-2.2.5-cp310-cp310-manylinux_2_17_x86_64.manylinux2014_x86_64.whl (16.4 MB)\n",
      "\u001b[2K   \u001b[90m━━━━━━━━━━━━━━━━━━━━━━━━━━━━━━━━━━━━━━━━\u001b[0m \u001b[32m16.4/16.4 MB\u001b[0m \u001b[31m76.5 MB/s\u001b[0m eta \u001b[36m0:00:00\u001b[0m:00:01\u001b[0m\n",
      "\u001b[?25hDownloading pandas-2.2.3-cp310-cp310-manylinux_2_17_x86_64.manylinux2014_x86_64.whl (13.1 MB)\n",
      "\u001b[2K   \u001b[90m━━━━━━━━━━━━━━━━━━━━━━━━━━━━━━━━━━━━━━━━\u001b[0m \u001b[32m13.1/13.1 MB\u001b[0m \u001b[31m68.3 MB/s\u001b[0m eta \u001b[36m0:00:00\u001b[0m\n",
      "\u001b[?25hDownloading matplotlib-3.10.3-cp310-cp310-manylinux_2_17_x86_64.manylinux2014_x86_64.whl (8.6 MB)\n",
      "\u001b[2K   \u001b[90m━━━━━━━━━━━━━━━━━━━━━━━━━━━━━━━━━━━━━━━━\u001b[0m \u001b[32m8.6/8.6 MB\u001b[0m \u001b[31m72.1 MB/s\u001b[0m eta \u001b[36m0:00:00\u001b[0m\n",
      "\u001b[?25hDownloading contourpy-1.3.2-cp310-cp310-manylinux_2_17_x86_64.manylinux2014_x86_64.whl (325 kB)\n",
      "Downloading cycler-0.12.1-py3-none-any.whl (8.3 kB)\n",
      "Downloading fonttools-4.57.0-cp310-cp310-manylinux_2_17_x86_64.manylinux2014_x86_64.whl (4.6 MB)\n",
      "\u001b[2K   \u001b[90m━━━━━━━━━━━━━━━━━━━━━━━━━━━━━━━━━━━━━━━━\u001b[0m \u001b[32m4.6/4.6 MB\u001b[0m \u001b[31m67.0 MB/s\u001b[0m eta \u001b[36m0:00:00\u001b[0m\n",
      "\u001b[?25hDownloading kiwisolver-1.4.8-cp310-cp310-manylinux_2_12_x86_64.manylinux2010_x86_64.whl (1.6 MB)\n",
      "\u001b[2K   \u001b[90m━━━━━━━━━━━━━━━━━━━━━━━━━━━━━━━━━━━━━━━━\u001b[0m \u001b[32m1.6/1.6 MB\u001b[0m \u001b[31m58.4 MB/s\u001b[0m eta \u001b[36m0:00:00\u001b[0m\n",
      "\u001b[?25hDownloading pillow-11.2.1-cp310-cp310-manylinux_2_28_x86_64.whl (4.6 MB)\n",
      "\u001b[2K   \u001b[90m━━━━━━━━━━━━━━━━━━━━━━━━━━━━━━━━━━━━━━━━\u001b[0m \u001b[32m4.6/4.6 MB\u001b[0m \u001b[31m66.5 MB/s\u001b[0m eta \u001b[36m0:00:00\u001b[0m\n",
      "\u001b[?25hDownloading pyparsing-3.2.3-py3-none-any.whl (111 kB)\n",
      "Downloading pytz-2025.2-py2.py3-none-any.whl (509 kB)\n",
      "Downloading tzdata-2025.2-py2.py3-none-any.whl (347 kB)\n",
      "Installing collected packages: pytz, tzdata, pyparsing, pillow, numpy, kiwisolver, fonttools, cycler, pandas, contourpy, matplotlib\n",
      "\u001b[2K   \u001b[90m━━━━━━━━━━━━━━━━━━━━━━━━━━━━━━━━━━━━━━━━\u001b[0m \u001b[32m11/11\u001b[0m [matplotlib]1\u001b[0m [matplotlib]\n",
      "\u001b[1A\u001b[2KSuccessfully installed contourpy-1.3.2 cycler-0.12.1 fonttools-4.57.0 kiwisolver-1.4.8 matplotlib-3.10.3 numpy-2.2.5 pandas-2.2.3 pillow-11.2.1 pyparsing-3.2.3 pytz-2025.2 tzdata-2025.2\n",
      "Note: you may need to restart the kernel to use updated packages.\n"
     ]
    }
   ],
   "source": [
    "# Actualizar pip\n",
    "%pip install --upgrade pip\n",
    "# Instalar dependencias\n",
    "%pip install numpy pandas matplotlib"
   ]
  },
  {
   "cell_type": "code",
   "execution_count": 16,
   "id": "562df694",
   "metadata": {},
   "outputs": [],
   "source": [
    "# Importar librerías\n",
    "import os\n",
    "import sys\n",
    "import numpy as np\n",
    "import pandas as pd\n",
    "import matplotlib.pyplot as plt\n",
    "\n",
    "# Crear directorios\n",
    "PATH_DATASETS = \"datasets\"\n",
    "PATH_DATASETS_FOODCOM = os.path.join(PATH_DATASETS, \"foodcom\")\n",
    "PATH_DATASETS_MEALRECPLUS = os.path.join(PATH_DATASETS, \"mealrecplus\")\n",
    "PATH_DATASETS_NUTRIGREEN = os.path.join(PATH_DATASETS, \"nutrigreen\")\n",
    "os.makedirs(PATH_DATASETS, exist_ok=True)"
   ]
  },
  {
   "cell_type": "code",
   "execution_count": null,
   "id": "75bc0fe3",
   "metadata": {},
   "outputs": [
    {
     "name": "stderr",
     "output_type": "stream",
     "text": [
      "  % Total    % Received % Xferd  Average Speed   Time    Time     Time  Current\n",
      "                                 Dload  Upload   Total   Spent    Left  Speed\n",
      "  0     0    0     0    0     0      0      0 --:--:-- --:--:-- --:--:--     0\n",
      "100  723M  100  723M    0     0  31.5M      0  0:00:22  0:00:22 --:--:-- 33.7M\n"
     ]
    },
    {
     "name": "stdout",
     "output_type": "stream",
     "text": [
      "Archive:  datasets/foodcom.zip\n",
      "  inflating: datasets/foodcom/recipes.csv  \n",
      "  inflating: datasets/foodcom/recipes.parquet  \n",
      "  inflating: datasets/foodcom/reviews.csv  \n",
      "  inflating: datasets/foodcom/reviews.parquet  \n"
     ]
    }
   ],
   "source": [
    "# Descargar \"Recipes and Reviews\" de Food.com\n",
    "os.system(f\"curl -L -o {PATH_DATASETS_FOODCOM}.zip https://www.kaggle.com/api/v1/datasets/download/irkaal/foodcom-recipes-and-reviews\")\n",
    "os.system(f\"unzip -o {PATH_DATASETS_FOODCOM}.zip -d {PATH_DATASETS_FOODCOM}\")\n",
    "# Eliminar el zip\n",
    "os.remove(f\"{PATH_DATASETS_FOODCOM}.zip\")\n",
    "\n",
    "# Cita: Dominio público (https://www.kaggle.com/datasets/irkaal/foodcom-recipes-and-reviews)"
   ]
  },
  {
   "cell_type": "code",
   "execution_count": null,
   "id": "667be9db",
   "metadata": {},
   "outputs": [
    {
     "name": "stderr",
     "output_type": "stream",
     "text": [
      "  % Total    % Received % Xferd  Average Speed   Time    Time     Time  Current\n",
      "                                 Dload  Upload   Total   Spent    Left  Speed\n",
      "  0     0    0     0    0     0      0      0 --:--:-- --:--:-- --:--:--     0\n",
      "100  384M    0  384M    0     0  9910k      0 --:--:--  0:00:39 --:--:-- 32.6M\n"
     ]
    },
    {
     "name": "stdout",
     "output_type": "stream",
     "text": [
      "Archive:  datasets/mealrecplus.zip\n",
      "8bd7d7d7effb505be4a7d2074b28abad802fe0f7\n",
      "   creating: datasets/mealrecplus/MealRecPlus-main/\n",
      "  inflating: datasets/mealrecplus/MealRecPlus-main/.DS_Store  \n",
      "  inflating: datasets/mealrecplus/MealRecPlus-main/.gitattributes  \n",
      "   creating: datasets/mealrecplus/MealRecPlus-main/MealRec+/\n",
      "  inflating: datasets/mealrecplus/MealRecPlus-main/MealRec+/.DS_Store  \n",
      "   creating: datasets/mealrecplus/MealRecPlus-main/MealRec+/MealRec+H/\n",
      "  inflating: datasets/mealrecplus/MealRecPlus-main/MealRec+/MealRec+H/.DS_Store  \n",
      "  inflating: datasets/mealrecplus/MealRecPlus-main/MealRec+/MealRec+H/course_category.txt  \n",
      "   creating: datasets/mealrecplus/MealRecPlus-main/MealRec+/MealRec+H/healthiness/\n",
      "  inflating: datasets/mealrecplus/MealRecPlus-main/MealRec+/MealRec+H/healthiness/.DS_Store  \n",
      "  inflating: datasets/mealrecplus/MealRecPlus-main/MealRec+/MealRec+H/healthiness/course_fsa.txt  \n",
      "  inflating: datasets/mealrecplus/MealRecPlus-main/MealRec+/MealRec+H/healthiness/course_who.txt  \n",
      "  inflating: datasets/mealrecplus/MealRecPlus-main/MealRec+/MealRec+H/healthiness/meal_fsa.txt  \n",
      "  inflating: datasets/mealrecplus/MealRecPlus-main/MealRec+/MealRec+H/healthiness/meal_who.txt  \n",
      "  inflating: datasets/mealrecplus/MealRecPlus-main/MealRec+/MealRec+H/healthiness/user_fsa.txt  \n",
      "  inflating: datasets/mealrecplus/MealRecPlus-main/MealRec+/MealRec+H/healthiness/user_who.txt  \n",
      "  inflating: datasets/mealrecplus/MealRecPlus-main/MealRec+/MealRec+H/meal_course.txt  \n",
      "   creating: datasets/mealrecplus/MealRecPlus-main/MealRec+/MealRec+H/meta_data/\n",
      "  inflating: datasets/mealrecplus/MealRecPlus-main/MealRec+/MealRec+H/meta_data/DateNote.txt  \n",
      " extracting: datasets/mealrecplus/MealRecPlus-main/MealRec+/MealRec+H/meta_data/course.zip  \n",
      "  inflating: datasets/mealrecplus/MealRecPlus-main/MealRec+/MealRec+H/meta_data/course2index.txt  \n",
      "  inflating: datasets/mealrecplus/MealRecPlus-main/MealRec+/MealRec+H/meta_data/user2index.txt  \n",
      " extracting: datasets/mealrecplus/MealRecPlus-main/MealRec+/MealRec+H/meta_data/user_course.zip  \n",
      "  inflating: datasets/mealrecplus/MealRecPlus-main/MealRec+/MealRec+H/user_course.txt  \n",
      "  inflating: datasets/mealrecplus/MealRecPlus-main/MealRec+/MealRec+H/user_meal_test.txt  \n",
      "  inflating: datasets/mealrecplus/MealRecPlus-main/MealRec+/MealRec+H/user_meal_train.txt  \n",
      "  inflating: datasets/mealrecplus/MealRecPlus-main/MealRec+/MealRec+H/user_meal_tune.txt  \n",
      "   creating: datasets/mealrecplus/MealRecPlus-main/MealRec+/MealRec+L/\n",
      "  inflating: datasets/mealrecplus/MealRecPlus-main/MealRec+/MealRec+L/.DS_Store  \n",
      "  inflating: datasets/mealrecplus/MealRecPlus-main/MealRec+/MealRec+L/course_category.txt  \n",
      "   creating: datasets/mealrecplus/MealRecPlus-main/MealRec+/MealRec+L/healthiness/\n",
      "  inflating: datasets/mealrecplus/MealRecPlus-main/MealRec+/MealRec+L/healthiness/.DS_Store  \n",
      "  inflating: datasets/mealrecplus/MealRecPlus-main/MealRec+/MealRec+L/healthiness/course_fsa.txt  \n",
      "  inflating: datasets/mealrecplus/MealRecPlus-main/MealRec+/MealRec+L/healthiness/course_who.txt  \n",
      "  inflating: datasets/mealrecplus/MealRecPlus-main/MealRec+/MealRec+L/healthiness/meal_fsa.txt  \n",
      "  inflating: datasets/mealrecplus/MealRecPlus-main/MealRec+/MealRec+L/healthiness/meal_who.txt  \n",
      "  inflating: datasets/mealrecplus/MealRecPlus-main/MealRec+/MealRec+L/healthiness/user_fsa.txt  \n",
      "  inflating: datasets/mealrecplus/MealRecPlus-main/MealRec+/MealRec+L/healthiness/user_who.txt  \n",
      "  inflating: datasets/mealrecplus/MealRecPlus-main/MealRec+/MealRec+L/meal_course.txt  \n",
      "   creating: datasets/mealrecplus/MealRecPlus-main/MealRec+/MealRec+L/meta_data/\n",
      "  inflating: datasets/mealrecplus/MealRecPlus-main/MealRec+/MealRec+L/meta_data/.DS_Store  \n",
      "  inflating: datasets/mealrecplus/MealRecPlus-main/MealRec+/MealRec+L/meta_data/DateNote.txt  \n",
      " extracting: datasets/mealrecplus/MealRecPlus-main/MealRec+/MealRec+L/meta_data/course.zip  \n",
      "  inflating: datasets/mealrecplus/MealRecPlus-main/MealRec+/MealRec+L/meta_data/course2index.txt  \n",
      "  inflating: datasets/mealrecplus/MealRecPlus-main/MealRec+/MealRec+L/meta_data/user2index.txt  \n",
      " extracting: datasets/mealrecplus/MealRecPlus-main/MealRec+/MealRec+L/meta_data/user_course.zip  \n",
      "  inflating: datasets/mealrecplus/MealRecPlus-main/MealRec+/MealRec+L/user_course.txt  \n",
      "  inflating: datasets/mealrecplus/MealRecPlus-main/MealRec+/MealRec+L/user_meal_test.txt  \n",
      "  inflating: datasets/mealrecplus/MealRecPlus-main/MealRec+/MealRec+L/user_meal_train.txt  \n",
      "  inflating: datasets/mealrecplus/MealRecPlus-main/MealRec+/MealRec+L/user_meal_tune.txt  \n",
      "  inflating: datasets/mealrecplus/MealRecPlus-main/MealRec+/data_load.py  \n",
      "  inflating: datasets/mealrecplus/MealRecPlus-main/README.md  \n",
      "  inflating: datasets/mealrecplus/MealRecPlus-main/healthiness_eval.py  \n"
     ]
    }
   ],
   "source": [
    "# Descargar \"MealRecPlus\" de WUT-IDEA\n",
    "os.system(f\"curl -L -o {PATH_DATASETS_MEALRECPLUS}.zip https://github.com/WUT-IDEA/MealRecPlus/archive/refs/heads/main.zip\")\n",
    "os.system(f\"unzip -o {PATH_DATASETS_MEALRECPLUS}.zip -d {PATH_DATASETS_MEALRECPLUS}\")\n",
    "# Eliminar el zip\n",
    "os.remove(f\"{PATH_DATASETS_MEALRECPLUS}.zip\")\n",
    "# Cita: Ming Li, Lin Li, Xiaohui Tao, and Jimmy Xiangji Huang. 2024. MealRec+: A Meal Recommendation Dataset with Meal-Course Affiliation for Personal- ization and Healthiness. In Proceedings of the 47th International ACM SIGIR Conference on Research and Development in Information Retrieval (SIGIR ’24), July 14–18, 2024, Washington, DC, USA. ACM, New York, NY, USA, 11 pages. https://doi.org/10.1145/3626772.3657857 (https://github.com/WUT-IDEA/MealRecPlus)"
   ]
  },
  {
   "cell_type": "code",
   "execution_count": 15,
   "id": "38cc05ac",
   "metadata": {},
   "outputs": [
    {
     "name": "stderr",
     "output_type": "stream",
     "text": [
      "  % Total    % Received % Xferd  Average Speed   Time    Time     Time  Current\n",
      "                                 Dload  Upload   Total   Spent    Left  Speed\n",
      "100 4874M    0 4874M    0     0  14.5M      0 --:--:--  0:05:34 --:--:-- 15.3M\n"
     ]
    },
    {
     "name": "stdout",
     "output_type": "stream",
     "text": [
      "Archive:  datasets/nutrigreen.zip\n",
      " extracting: datasets/nutrigreen/README.md  \n",
      " extracting: datasets/nutrigreen/dataset.zip  \n",
      " extracting: datasets/nutrigreen/data.csv  \n"
     ]
    }
   ],
   "source": [
    "# Descargar \"NutriGreen Image Dataset\" de NutriGreen\n",
    "os.system(f\"curl -L -o {PATH_DATASETS_NUTRIGREEN}.zip https://zenodo.org/api/records/10020545/files-archive\")\n",
    "os.system(f\"unzip -o {PATH_DATASETS_NUTRIGREEN}.zip -d {PATH_DATASETS_NUTRIGREEN}\")\n",
    "# Eliminar el zip\n",
    "os.remove(f\"{PATH_DATASETS_NUTRIGREEN}.zip\")\n",
    "# Cita: https://data.niaid.nih.gov/resources?id=zenodo_8374046"
   ]
  }
 ],
 "metadata": {
  "kernelspec": {
   "display_name": "Python 3",
   "language": "python",
   "name": "python3"
  },
  "language_info": {
   "codemirror_mode": {
    "name": "ipython",
    "version": 3
   },
   "file_extension": ".py",
   "mimetype": "text/x-python",
   "name": "python",
   "nbconvert_exporter": "python",
   "pygments_lexer": "ipython3",
   "version": "3.10.17"
  }
 },
 "nbformat": 4,
 "nbformat_minor": 5
}
